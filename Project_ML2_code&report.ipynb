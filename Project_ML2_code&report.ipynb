{
 "cells": [
  {
   "cell_type": "markdown",
   "metadata": {},
   "source": [
    "# Predicting housing prices in Poland "
   ]
  },
  {
   "cell_type": "markdown",
   "metadata": {},
   "source": [
    "The aim of this project is to create an ensemble machine learning model, which aim will be to predict, as closely as possible, the prices of housing in Poland. The dataset was scrapped personally from Otodom.pl site, where both real estate agencies and single owners have the possibility to list their house, apartment and so forth on sale or to rent. This project focuses only on the sale department. Each observation is a separate offer of sale in Polish Złoty (PLN).\n",
    "\n",
    "First step will be the preprocessing of the data as well as data description. Next, will be some simple exploratory data analysis to get the grasp of the dataset, some statistics or distributions concerning the variables. Later, I will create a simple model, which will be treated as a basic benchmark to the final model. Then, three models will be fitted and their prediction accuracy compared against the benchmark. Those three will be finally assembled into on final model. After the assembly of the final model, the prediction quality against the bench and separate models will be assessed."
   ]
  },
  {
   "cell_type": "markdown",
   "metadata": {
    "ExecuteTime": {
     "end_time": "2021-01-10T16:22:49.655319Z",
     "start_time": "2021-01-10T16:22:49.651324Z"
    }
   },
   "source": [
    "# Dataset"
   ]
  },
  {
   "cell_type": "markdown",
   "metadata": {},
   "source": [
    "Since the data I have gathered is in a raw state, partially in Polish, there is need for some preprocessing, which will be conducted after initial description of the data. The data was scrapped from the \"for sale\" section of Otodom.pl. It was done in September 2020. Poland, as most of the world, was amidst COVID-19 pandemic, thus it is a quite rare occasion to have a real estate data from such uncommon and uncertain times.\n",
    "\n",
    "First step is, of course, loading and looking at the data to see what alterations does it need, what needs to be removed or changed. For now, none of the variables is suitable for analysis and modeling, as we can clearly see from the first 5 rows. The initial size of the set is 12 229 observations and 20 variables."
   ]
  },
  {
   "cell_type": "code",
   "execution_count": 32,
   "metadata": {
    "ExecuteTime": {
     "end_time": "2021-01-17T11:03:52.190637Z",
     "start_time": "2021-01-17T11:03:48.414679Z"
    }
   },
   "outputs": [],
   "source": [
    "# Importing libraries\n",
    "import pandas as pd\n",
    "import numpy as np\n",
    "import os\n",
    "import warnings\n",
    "warnings.filterwarnings('ignore')\n",
    "# Loading the data\n",
    "offers = pd.read_excel(os.getcwd() + '\\\\otodom_offers.xlsx')"
   ]
  },
  {
   "cell_type": "code",
   "execution_count": 33,
   "metadata": {
    "ExecuteTime": {
     "end_time": "2021-01-17T11:03:52.206652Z",
     "start_time": "2021-01-17T11:03:52.191638Z"
    }
   },
   "outputs": [
    {
     "data": {
      "text/html": [
       "<div>\n",
       "<style scoped>\n",
       "    .dataframe tbody tr th:only-of-type {\n",
       "        vertical-align: middle;\n",
       "    }\n",
       "\n",
       "    .dataframe tbody tr th {\n",
       "        vertical-align: top;\n",
       "    }\n",
       "\n",
       "    .dataframe thead th {\n",
       "        text-align: right;\n",
       "    }\n",
       "</style>\n",
       "<table border=\"1\" class=\"dataframe\">\n",
       "  <thead>\n",
       "    <tr style=\"text-align: right;\">\n",
       "      <th></th>\n",
       "      <th>alink</th>\n",
       "      <th>balcony</th>\n",
       "      <th>basement</th>\n",
       "      <th>build_floors</th>\n",
       "      <th>build_material</th>\n",
       "      <th>build_type</th>\n",
       "      <th>condition</th>\n",
       "      <th>district</th>\n",
       "      <th>elevator</th>\n",
       "      <th>floor</th>\n",
       "      <th>garage</th>\n",
       "      <th>heating</th>\n",
       "      <th>market</th>\n",
       "      <th>no_rooms</th>\n",
       "      <th>offer_type</th>\n",
       "      <th>own_form</th>\n",
       "      <th>price</th>\n",
       "      <th>sq_metre</th>\n",
       "      <th>windows</th>\n",
       "      <th>year_constr</th>\n",
       "    </tr>\n",
       "  </thead>\n",
       "  <tbody>\n",
       "    <tr>\n",
       "      <th>0</th>\n",
       "      <td>https://www.otodom.pl/oferta/mieszkanie-120m-b...</td>\n",
       "      <td>NaN</td>\n",
       "      <td>piwnica</td>\n",
       "      <td>3.000</td>\n",
       "      <td>cegła</td>\n",
       "      <td>apartamentowiec</td>\n",
       "      <td>do zamieszkania</td>\n",
       "      <td>Bemowo</td>\n",
       "      <td>NaN</td>\n",
       "      <td>2</td>\n",
       "      <td>NaN</td>\n",
       "      <td>kotłownia</td>\n",
       "      <td>wtórny</td>\n",
       "      <td>5</td>\n",
       "      <td>Oferta prywatna</td>\n",
       "      <td>pełna własność</td>\n",
       "      <td>1 260 000 zł,</td>\n",
       "      <td>120 m²</td>\n",
       "      <td>drewniane</td>\n",
       "      <td>1996.000</td>\n",
       "    </tr>\n",
       "    <tr>\n",
       "      <th>1</th>\n",
       "      <td>https://www.otodom.pl/oferta/apartament-71-m2-...</td>\n",
       "      <td>NaN</td>\n",
       "      <td>piwnica</td>\n",
       "      <td>8.000</td>\n",
       "      <td>cegła</td>\n",
       "      <td>blok</td>\n",
       "      <td>do zamieszkania</td>\n",
       "      <td>Mokotów</td>\n",
       "      <td>winda</td>\n",
       "      <td>7</td>\n",
       "      <td>garaż/miejsce parkingowe</td>\n",
       "      <td>miejskie</td>\n",
       "      <td>wtórny</td>\n",
       "      <td>3</td>\n",
       "      <td>Oferta prywatna</td>\n",
       "      <td>pełna własność</td>\n",
       "      <td>879 000 zł,</td>\n",
       "      <td>71 m²</td>\n",
       "      <td>plastikowe</td>\n",
       "      <td>2008.000</td>\n",
       "    </tr>\n",
       "    <tr>\n",
       "      <th>2</th>\n",
       "      <td>https://www.otodom.pl/oferta/apartament-z-tara...</td>\n",
       "      <td>NaN</td>\n",
       "      <td>piwnica</td>\n",
       "      <td>5.000</td>\n",
       "      <td>NaN</td>\n",
       "      <td>apartamentowiec</td>\n",
       "      <td>do wykończenia</td>\n",
       "      <td>Mokotów</td>\n",
       "      <td>winda</td>\n",
       "      <td>1</td>\n",
       "      <td>garaż/miejsce parkingowe</td>\n",
       "      <td>miejskie</td>\n",
       "      <td>pierwotny</td>\n",
       "      <td>4</td>\n",
       "      <td>Oferta biura nieruchomości</td>\n",
       "      <td>pełna własność</td>\n",
       "      <td>1 790 000 zł,</td>\n",
       "      <td>119,53 m²</td>\n",
       "      <td>NaN</td>\n",
       "      <td>2019.000</td>\n",
       "    </tr>\n",
       "    <tr>\n",
       "      <th>3</th>\n",
       "      <td>https://www.otodom.pl/oferta/bielany-perzynski...</td>\n",
       "      <td>balkon</td>\n",
       "      <td>piwnica</td>\n",
       "      <td>3.000</td>\n",
       "      <td>pustak</td>\n",
       "      <td>blok</td>\n",
       "      <td>do zamieszkania</td>\n",
       "      <td>Bielany</td>\n",
       "      <td>NaN</td>\n",
       "      <td>parter</td>\n",
       "      <td>NaN</td>\n",
       "      <td>miejskie</td>\n",
       "      <td>wtórny</td>\n",
       "      <td>3</td>\n",
       "      <td>Oferta prywatna</td>\n",
       "      <td>spółdzielcze własnościowe</td>\n",
       "      <td>635 000 zł,</td>\n",
       "      <td>57 m²</td>\n",
       "      <td>plastikowe</td>\n",
       "      <td>1963.000</td>\n",
       "    </tr>\n",
       "    <tr>\n",
       "      <th>4</th>\n",
       "      <td>https://www.otodom.pl/oferta/nowy-apartament-w...</td>\n",
       "      <td>balkon</td>\n",
       "      <td>NaN</td>\n",
       "      <td>3.000</td>\n",
       "      <td>NaN</td>\n",
       "      <td>blok</td>\n",
       "      <td>do wykończenia</td>\n",
       "      <td>Białołęka</td>\n",
       "      <td>winda</td>\n",
       "      <td>2</td>\n",
       "      <td>garaż/miejsce parkingowe</td>\n",
       "      <td>NaN</td>\n",
       "      <td>pierwotny</td>\n",
       "      <td>3</td>\n",
       "      <td>Oferta dewelopera</td>\n",
       "      <td>NaN</td>\n",
       "      <td>Zapytaj o cenę</td>\n",
       "      <td>55,59 m²</td>\n",
       "      <td>None</td>\n",
       "      <td>NaN</td>\n",
       "    </tr>\n",
       "  </tbody>\n",
       "</table>\n",
       "</div>"
      ],
      "text/plain": [
       "                                               alink balcony basement  \\\n",
       "0  https://www.otodom.pl/oferta/mieszkanie-120m-b...     NaN  piwnica   \n",
       "1  https://www.otodom.pl/oferta/apartament-71-m2-...     NaN  piwnica   \n",
       "2  https://www.otodom.pl/oferta/apartament-z-tara...     NaN  piwnica   \n",
       "3  https://www.otodom.pl/oferta/bielany-perzynski...  balkon  piwnica   \n",
       "4  https://www.otodom.pl/oferta/nowy-apartament-w...  balkon      NaN   \n",
       "\n",
       "   build_floors build_material       build_type        condition   district  \\\n",
       "0         3.000          cegła  apartamentowiec  do zamieszkania     Bemowo   \n",
       "1         8.000          cegła             blok  do zamieszkania    Mokotów   \n",
       "2         5.000            NaN  apartamentowiec   do wykończenia    Mokotów   \n",
       "3         3.000         pustak             blok  do zamieszkania    Bielany   \n",
       "4         3.000            NaN             blok   do wykończenia  Białołęka   \n",
       "\n",
       "  elevator   floor                    garage    heating     market no_rooms  \\\n",
       "0      NaN       2                       NaN  kotłownia     wtórny        5   \n",
       "1    winda       7  garaż/miejsce parkingowe   miejskie     wtórny        3   \n",
       "2    winda       1  garaż/miejsce parkingowe   miejskie  pierwotny        4   \n",
       "3      NaN  parter                       NaN   miejskie     wtórny        3   \n",
       "4    winda       2  garaż/miejsce parkingowe        NaN  pierwotny        3   \n",
       "\n",
       "                   offer_type                   own_form           price  \\\n",
       "0             Oferta prywatna             pełna własność  1 260 000 zł,    \n",
       "1             Oferta prywatna             pełna własność    879 000 zł,    \n",
       "2  Oferta biura nieruchomości             pełna własność  1 790 000 zł,    \n",
       "3             Oferta prywatna  spółdzielcze własnościowe    635 000 zł,    \n",
       "4           Oferta dewelopera                        NaN  Zapytaj o cenę   \n",
       "\n",
       "    sq_metre     windows  year_constr  \n",
       "0     120 m²   drewniane     1996.000  \n",
       "1      71 m²  plastikowe     2008.000  \n",
       "2  119,53 m²         NaN     2019.000  \n",
       "3      57 m²  plastikowe     1963.000  \n",
       "4   55,59 m²        None          NaN  "
      ]
     },
     "metadata": {},
     "output_type": "display_data"
    },
    {
     "data": {
      "text/plain": [
       "(12229, 20)"
      ]
     },
     "metadata": {},
     "output_type": "display_data"
    }
   ],
   "source": [
    "display(offers.head())\n",
    "display(offers.shape)"
   ]
  },
  {
   "cell_type": "markdown",
   "metadata": {
    "ExecuteTime": {
     "end_time": "2021-01-12T11:31:09.386699Z",
     "start_time": "2021-01-12T11:31:09.372686Z"
    }
   },
   "source": [
    "## Variables"
   ]
  },
  {
   "cell_type": "markdown",
   "metadata": {},
   "source": [
    "Of the 20 variables the first one was used purely for scrapping reasons, so will not be used and explained. Some of the variables are pretty self-explanatory, however, just to make sure I will explain each one briefly. The values 0 and 1 stand for lack or presence of certain amenity, which are for now represented as \"NaN\" and \"amenity\" in the dataset, but will be changed to 0s and 1s later on. Two variables have many nominal values (*build_material* and *district*) and since this project's aim is to create prediction models, I decided not to delve deep into exploratory data analysis and visualization of those many levels. The full list of variables:\n",
    "* balcony \n",
    "  * 0 - no balcony, 1 - otherwise\n",
    "* basement \n",
    "  * 0 - no basement, 1 - otherwise\n",
    "* build_floors \n",
    "  * total number of floors in the building\n",
    "* build_material \n",
    "  * characterizes main building material (bricks, airbricks and 8 others)\n",
    "* build_type \n",
    "  * block of flats\n",
    "  * apartment building\n",
    "  * tenement house\n",
    "  * detached house\n",
    "  * terraced house\n",
    "  * infill\n",
    "  * loft\n",
    "* condition \n",
    "  * ready to move\n",
    "  * for interior finishing\n",
    "  * fixer-upper \n",
    "* district \n",
    "  * denotes a certain district in Warsaw (Bemowo, Mokotów and 23 others)\n",
    "* elevator \n",
    "  * 0 - no elevator, 1 - otherwise\n",
    "* floor \n",
    "  * floor at which the apartment is located\n",
    "* garage \n",
    "  * 0 - no garage/parking space, 1 - otherwise\n",
    "* heating \n",
    "  * district\n",
    "  * gas\n",
    "  * boiler room\n",
    "  * electric\n",
    "  * other\n",
    "* market \n",
    "  * 0 - primary market, 1 - secondary market\n",
    "* no_rooms \n",
    "  * number of rooms\n",
    "* offer_type \n",
    "  * agency offer\n",
    "  * private offer \n",
    "  * developer offer\n",
    "* own_form\n",
    "  * full ownership\n",
    "  * co-operative ownership\n",
    "  * co-operative ownership with mortgage registers \n",
    "  * shares\n",
    "* **price** \n",
    "  * sales price in PLN\n",
    "* sq_metre \n",
    "  * the area of the apartment/house in square metres\n",
    "* windows \n",
    "  * plastic\n",
    "  * wooden\n",
    "  * aluminium\n",
    "* year_constr \n",
    "  * year of construction of the building"
   ]
  },
  {
   "cell_type": "markdown",
   "metadata": {},
   "source": [
    "## Preprocessing"
   ]
  },
  {
   "cell_type": "markdown",
   "metadata": {},
   "source": [
    "First thing in the preprocessing part will be removing the link column, which served purpose only during the scrapping process and is now completely useless."
   ]
  },
  {
   "cell_type": "code",
   "execution_count": 34,
   "metadata": {
    "ExecuteTime": {
     "end_time": "2021-01-17T11:03:52.222667Z",
     "start_time": "2021-01-17T11:03:52.208654Z"
    }
   },
   "outputs": [],
   "source": [
    "offers = offers.drop('alink', axis = 1)"
   ]
  },
  {
   "cell_type": "markdown",
   "metadata": {},
   "source": [
    "Next task is to recode the variables to have them ready as input for the models in next chapters of this project. The variables in this dataset are divided into binary, nominal and continuous types. Each of the types will be taken care of separately below. We start with binary variables. In the dataset we have an example of balcony, which has two values: \"NaN\" and \"balkon\" (Polish for \"balcony\"), where \"NaN\" specifies lack of balcony. The pattern applies to the other binary variables as well. The aim is to recode lack of amenities to zeros and ones in case of presence."
   ]
  },
  {
   "cell_type": "code",
   "execution_count": 35,
   "metadata": {
    "ExecuteTime": {
     "end_time": "2021-01-17T11:03:52.254695Z",
     "start_time": "2021-01-17T11:03:52.223668Z"
    }
   },
   "outputs": [],
   "source": [
    "binary_vars = ['balcony', 'basement', 'elevator', 'garage', 'market']\n",
    "offers[binary_vars] = offers[binary_vars].replace(np.nan, 0)\n",
    "\n",
    "# One observation doesn't have specified market, so we will remove it\n",
    "offers = offers[offers['market'] != 0]\n",
    "offers[binary_vars] = pd.get_dummies(offers[binary_vars], drop_first=True)"
   ]
  },
  {
   "cell_type": "markdown",
   "metadata": {},
   "source": [
    "The nominal variables are representing factors, which cannot be ranked (or rather cannot be ordered in an obvious way - like type of building). However, for now at least, those variables will be encoded as integers in a range (i.e. districts will be numbered from 0 to 24). Later on, one-hot encoding will be done on the variables to ensure that the information is not lost in the model and each nominal level has its own variable (this is due to the fact that one cannot say that \"Bielany\" is twice \"Mokotów\", if they were valued 2 and 1). \n",
    "\n",
    "At first, I will also get rid of 303 observations, which don't have specified floor, because it is one of the most basic things when looking for an apartment. Such offer is potentially a poorly created one or suspicious other way. The build_floors variable describes the total number of floors that the building has. I will replace the missing values there with the floor number of the offered apartment, so that the floor matches build_floor. It can possibly bias the results, since top floor may be more attractive, than not-top floor, however I did not want to lose 687 records. It is not however entirely unreasonable since a building with an offer at specified floor has to have at least the amount of floors the offer specifies for the apartment."
   ]
  },
  {
   "cell_type": "code",
   "execution_count": 36,
   "metadata": {
    "ExecuteTime": {
     "end_time": "2021-01-17T11:03:52.302768Z",
     "start_time": "2021-01-17T11:03:52.255696Z"
    }
   },
   "outputs": [
    {
     "data": {
      "text/plain": [
       "303"
      ]
     },
     "metadata": {},
     "output_type": "display_data"
    },
    {
     "data": {
      "text/plain": [
       "687"
      ]
     },
     "metadata": {},
     "output_type": "display_data"
    },
    {
     "data": {
      "text/plain": [
       "0"
      ]
     },
     "metadata": {},
     "output_type": "display_data"
    }
   ],
   "source": [
    "nominal_vars = ['build_material', 'build_type', 'condition', 'district',\n",
    "                'heating', 'offer_type', 'own_form', 'windows']\n",
    "offers[nominal_vars] = offers[nominal_vars].astype('category')\n",
    "nom_columns = offers.select_dtypes(['category']).columns\n",
    "offers[nom_columns] = offers[nom_columns].apply(lambda x: x.cat.codes)\n",
    "\n",
    "# Changing \"parter\" to 0 as in ground-floor level\n",
    "offers['floor'] = offers['floor'].apply(lambda x: 0 if x == 'parter' else x)\n",
    "display(offers.floor.isna().sum())  # 303 missing floor values\n",
    "offers = offers[offers['floor'].notna()]\n",
    "display(offers.build_floors.isna().sum())  # 687 missing building floors values\n",
    "offers['build_floors'] = offers['build_floors'].fillna(offers['floor'])\n",
    "# 0 missing building floors values after imputation\n",
    "display(offers.build_floors.isna().sum())"
   ]
  },
  {
   "cell_type": "markdown",
   "metadata": {},
   "source": [
    "There is also one more problem arising in the floors variables, namely that both 'floor' and 'build_floors' have some not-numeric values among them. Shown below:"
   ]
  },
  {
   "cell_type": "code",
   "execution_count": 37,
   "metadata": {
    "ExecuteTime": {
     "end_time": "2021-01-17T11:03:52.318782Z",
     "start_time": "2021-01-17T11:03:52.303770Z"
    }
   },
   "outputs": [
    {
     "data": {
      "text/plain": [
       "354"
      ]
     },
     "metadata": {},
     "output_type": "display_data"
    },
    {
     "data": {
      "text/plain": [
       "41"
      ]
     },
     "metadata": {},
     "output_type": "display_data"
    },
    {
     "data": {
      "text/plain": [
       "'************'"
      ]
     },
     "metadata": {},
     "output_type": "display_data"
    },
    {
     "data": {
      "text/plain": [
       "1           2325\n",
       "2           1943\n",
       "3           1744\n",
       "0           1637\n",
       "4           1368\n",
       "5            831\n",
       "6            560\n",
       "7            410\n",
       "> 10         354\n",
       "8            292\n",
       "9            237\n",
       "10           219\n",
       "poddasze       4\n",
       "suterena       1\n",
       "Name: floor, dtype: int64"
      ]
     },
     "metadata": {},
     "output_type": "display_data"
    },
    {
     "data": {
      "text/plain": [
       "'************'"
      ]
     },
     "metadata": {},
     "output_type": "display_data"
    },
    {
     "data": {
      "text/plain": [
       "4.0     2439\n",
       "3.0     1655\n",
       "5.0     1445\n",
       "10.0    1111\n",
       "6.0     1030\n",
       "2.0      863\n",
       "7.0      851\n",
       "8.0      787\n",
       "9.0      318\n",
       "12.0     245\n",
       "11.0     218\n",
       "1.0      211\n",
       "15.0     147\n",
       "0        111\n",
       "26.0      88\n",
       "16.0      67\n",
       "13.0      65\n",
       "14.0      53\n",
       "> 10      41\n",
       "17.0      32\n",
       "25.0      22\n",
       "30.0      19\n",
       "22.0      17\n",
       "27.0      17\n",
       "52.0      17\n",
       "44.0      12\n",
       "24.0      11\n",
       "20.0      10\n",
       "23.0       7\n",
       "19.0       5\n",
       "18.0       4\n",
       "28.0       3\n",
       "21.0       2\n",
       "45.0       1\n",
       "55.0       1\n",
       "Name: build_floors, dtype: int64"
      ]
     },
     "metadata": {},
     "output_type": "display_data"
    }
   ],
   "source": [
    "display((offers['floor'] == \"> 10\").sum())\n",
    "display((offers['build_floors'] == \"> 10\").sum())\n",
    "display(\"************\")\n",
    "display(offers.floor.value_counts())\n",
    "display(\"************\")\n",
    "display(offers.build_floors.value_counts())"
   ]
  },
  {
   "cell_type": "markdown",
   "metadata": {},
   "source": [
    "Since there are quite few values among 'build_floors' that have values higher than 10, for example, 14, 16 or even 55, but no such values in the 'floor column', I decided to classify each offer above the 10th floor as a 11th floor (a value containing all floors above 10th). It is a simplification of sorts, but one that does not affect the majority of observations."
   ]
  },
  {
   "cell_type": "code",
   "execution_count": 38,
   "metadata": {
    "ExecuteTime": {
     "end_time": "2021-01-17T11:03:52.350813Z",
     "start_time": "2021-01-17T11:03:52.319784Z"
    }
   },
   "outputs": [],
   "source": [
    "# Setting \"suterena\" (\"basement\") as ground-level\n",
    "offers['floor'] = offers['floor'].apply(\n",
    "    lambda x: 11 if x == '> 10' else (0 if x == \"suterena\" else x))\n",
    "# Setting the \"poddasze\" (\"attic\") value to top floor value of that building\n",
    "offers['floor'][offers['floor'] ==\n",
    "                \"poddasze\"] = offers['build_floors'][offers['floor'] == \"poddasze\"]\n",
    "\n",
    "# Chnaging to numeric\n",
    "offers['build_floors'] = offers['build_floors'].apply(\n",
    "    lambda x: 11 if x == '> 10' else x)\n",
    "pd.to_numeric(offers['floor'])\n",
    "pd.to_numeric(offers['build_floors'])\n",
    "\n",
    "# Setting all above 10th floor to value 11\n",
    "offers['floor'] = offers['floor'].apply(lambda x: 11 if x > 10 else x)\n",
    "offers['build_floors'] = offers['build_floors'].apply(\n",
    "    lambda x: 11 if x > 10 else x)"
   ]
  },
  {
   "cell_type": "markdown",
   "metadata": {},
   "source": [
    "Also, due to the fact that cat.codes function encodes not specified values as -1, I will add 1 to the each column, which was in the nom_columns list in order to receive <0,highest value> ranges instead of <-1, highest value-1> ranges."
   ]
  },
  {
   "cell_type": "code",
   "execution_count": 39,
   "metadata": {
    "ExecuteTime": {
     "end_time": "2021-01-17T11:03:52.366826Z",
     "start_time": "2021-01-17T11:03:52.352814Z"
    }
   },
   "outputs": [],
   "source": [
    "offers[nom_columns] = offers[nom_columns] + 1"
   ]
  },
  {
   "cell_type": "markdown",
   "metadata": {},
   "source": [
    "Next thing on the to-do list is to clean the price and square metre columns in order to classify them later as numerical variables instead of character strings. To do so I created a function, which removes the last part of the string, namely \"zł,\" and \"m²\". After cleaning, I also swapped \",\" with \".\", since the decimal point differs between Polish and American system."
   ]
  },
  {
   "cell_type": "code",
   "execution_count": 40,
   "metadata": {
    "ExecuteTime": {
     "end_time": "2021-01-17T11:03:52.398873Z",
     "start_time": "2021-01-17T11:03:52.367827Z"
    }
   },
   "outputs": [],
   "source": [
    "def clean_numbers(string):\n",
    "    \"\"\"Remove the character part of the string\"\"\"\n",
    "    parts = string.split()\n",
    "    parts.pop()\n",
    "    number = \"\".join(parts)\n",
    "    return number\n",
    "\n",
    "\n",
    "offers['price'] = offers['price'].apply(lambda x: clean_numbers(x))\n",
    "offers['price'] = offers['price'].apply(lambda x: x.replace(',', '.'))\n",
    "\n",
    "offers['sq_metre'] = offers['sq_metre'].apply(lambda x: clean_numbers(x))\n",
    "offers['sq_metre'] = offers['sq_metre'].apply(lambda x: x.replace(',', '.'))"
   ]
  },
  {
   "cell_type": "markdown",
   "metadata": {},
   "source": [
    "Below are shown the first five rows, which now look cleaner, but still not ready to be properly investigated."
   ]
  },
  {
   "cell_type": "code",
   "execution_count": 41,
   "metadata": {
    "ExecuteTime": {
     "end_time": "2021-01-17T11:03:52.414597Z",
     "start_time": "2021-01-17T11:03:52.399874Z"
    }
   },
   "outputs": [
    {
     "data": {
      "text/html": [
       "<div>\n",
       "<style scoped>\n",
       "    .dataframe tbody tr th:only-of-type {\n",
       "        vertical-align: middle;\n",
       "    }\n",
       "\n",
       "    .dataframe tbody tr th {\n",
       "        vertical-align: top;\n",
       "    }\n",
       "\n",
       "    .dataframe thead th {\n",
       "        text-align: right;\n",
       "    }\n",
       "</style>\n",
       "<table border=\"1\" class=\"dataframe\">\n",
       "  <thead>\n",
       "    <tr style=\"text-align: right;\">\n",
       "      <th></th>\n",
       "      <th>balcony</th>\n",
       "      <th>basement</th>\n",
       "      <th>build_floors</th>\n",
       "      <th>build_material</th>\n",
       "      <th>build_type</th>\n",
       "      <th>condition</th>\n",
       "      <th>district</th>\n",
       "      <th>elevator</th>\n",
       "      <th>floor</th>\n",
       "      <th>garage</th>\n",
       "      <th>heating</th>\n",
       "      <th>market</th>\n",
       "      <th>no_rooms</th>\n",
       "      <th>offer_type</th>\n",
       "      <th>own_form</th>\n",
       "      <th>price</th>\n",
       "      <th>sq_metre</th>\n",
       "      <th>windows</th>\n",
       "      <th>year_constr</th>\n",
       "    </tr>\n",
       "  </thead>\n",
       "  <tbody>\n",
       "    <tr>\n",
       "      <th>0</th>\n",
       "      <td>0</td>\n",
       "      <td>1</td>\n",
       "      <td>3.000</td>\n",
       "      <td>3</td>\n",
       "      <td>1</td>\n",
       "      <td>3</td>\n",
       "      <td>1</td>\n",
       "      <td>0</td>\n",
       "      <td>2.000</td>\n",
       "      <td>0</td>\n",
       "      <td>4</td>\n",
       "      <td>1</td>\n",
       "      <td>5</td>\n",
       "      <td>3</td>\n",
       "      <td>1</td>\n",
       "      <td>1260000</td>\n",
       "      <td>120</td>\n",
       "      <td>2</td>\n",
       "      <td>1996.000</td>\n",
       "    </tr>\n",
       "    <tr>\n",
       "      <th>1</th>\n",
       "      <td>0</td>\n",
       "      <td>1</td>\n",
       "      <td>8.000</td>\n",
       "      <td>3</td>\n",
       "      <td>2</td>\n",
       "      <td>3</td>\n",
       "      <td>6</td>\n",
       "      <td>1</td>\n",
       "      <td>7.000</td>\n",
       "      <td>1</td>\n",
       "      <td>5</td>\n",
       "      <td>1</td>\n",
       "      <td>3</td>\n",
       "      <td>3</td>\n",
       "      <td>1</td>\n",
       "      <td>879000</td>\n",
       "      <td>71</td>\n",
       "      <td>3</td>\n",
       "      <td>2008.000</td>\n",
       "    </tr>\n",
       "    <tr>\n",
       "      <th>2</th>\n",
       "      <td>0</td>\n",
       "      <td>1</td>\n",
       "      <td>5.000</td>\n",
       "      <td>0</td>\n",
       "      <td>1</td>\n",
       "      <td>2</td>\n",
       "      <td>6</td>\n",
       "      <td>1</td>\n",
       "      <td>1.000</td>\n",
       "      <td>1</td>\n",
       "      <td>5</td>\n",
       "      <td>0</td>\n",
       "      <td>4</td>\n",
       "      <td>1</td>\n",
       "      <td>1</td>\n",
       "      <td>1790000</td>\n",
       "      <td>119.53</td>\n",
       "      <td>0</td>\n",
       "      <td>2019.000</td>\n",
       "    </tr>\n",
       "    <tr>\n",
       "      <th>3</th>\n",
       "      <td>1</td>\n",
       "      <td>1</td>\n",
       "      <td>3.000</td>\n",
       "      <td>7</td>\n",
       "      <td>2</td>\n",
       "      <td>3</td>\n",
       "      <td>3</td>\n",
       "      <td>0</td>\n",
       "      <td>0.000</td>\n",
       "      <td>0</td>\n",
       "      <td>5</td>\n",
       "      <td>1</td>\n",
       "      <td>3</td>\n",
       "      <td>3</td>\n",
       "      <td>3</td>\n",
       "      <td>635000</td>\n",
       "      <td>57</td>\n",
       "      <td>3</td>\n",
       "      <td>1963.000</td>\n",
       "    </tr>\n",
       "    <tr>\n",
       "      <th>4</th>\n",
       "      <td>1</td>\n",
       "      <td>0</td>\n",
       "      <td>3.000</td>\n",
       "      <td>0</td>\n",
       "      <td>2</td>\n",
       "      <td>2</td>\n",
       "      <td>2</td>\n",
       "      <td>1</td>\n",
       "      <td>2.000</td>\n",
       "      <td>1</td>\n",
       "      <td>0</td>\n",
       "      <td>0</td>\n",
       "      <td>3</td>\n",
       "      <td>2</td>\n",
       "      <td>0</td>\n",
       "      <td>Zapytajo</td>\n",
       "      <td>55.59</td>\n",
       "      <td>0</td>\n",
       "      <td>NaN</td>\n",
       "    </tr>\n",
       "  </tbody>\n",
       "</table>\n",
       "</div>"
      ],
      "text/plain": [
       "   balcony  basement  build_floors  build_material  build_type  condition  \\\n",
       "0        0         1         3.000               3           1          3   \n",
       "1        0         1         8.000               3           2          3   \n",
       "2        0         1         5.000               0           1          2   \n",
       "3        1         1         3.000               7           2          3   \n",
       "4        1         0         3.000               0           2          2   \n",
       "\n",
       "   district  elevator  floor  garage  heating  market no_rooms  offer_type  \\\n",
       "0         1         0  2.000       0        4       1        5           3   \n",
       "1         6         1  7.000       1        5       1        3           3   \n",
       "2         6         1  1.000       1        5       0        4           1   \n",
       "3         3         0  0.000       0        5       1        3           3   \n",
       "4         2         1  2.000       1        0       0        3           2   \n",
       "\n",
       "   own_form     price sq_metre  windows  year_constr  \n",
       "0         1   1260000      120        2     1996.000  \n",
       "1         1    879000       71        3     2008.000  \n",
       "2         1   1790000   119.53        0     2019.000  \n",
       "3         3    635000       57        3     1963.000  \n",
       "4         0  Zapytajo    55.59        0          NaN  "
      ]
     },
     "metadata": {},
     "output_type": "display_data"
    }
   ],
   "source": [
    "display(offers.head())"
   ]
  },
  {
   "cell_type": "markdown",
   "metadata": {},
   "source": [
    "The remaining problem is the \"Zapytaj o\" value in price column. It means that the price was not specified on the website at the time and that the owner of the post should be inquired about it. Since we have no way of knowing the price, which is the target variable in this project, we will remove the observations containing missing price. It would be interesting to use the variables and models later on to predict the prices for those observations and then obtain knowledge from the seller how well or how poorly the model predicted the price. That's just food for thought though."
   ]
  },
  {
   "cell_type": "code",
   "execution_count": 42,
   "metadata": {
    "ExecuteTime": {
     "end_time": "2021-01-17T11:03:52.430612Z",
     "start_time": "2021-01-17T11:03:52.415598Z"
    }
   },
   "outputs": [
    {
     "data": {
      "text/plain": [
       "384"
      ]
     },
     "metadata": {},
     "output_type": "display_data"
    }
   ],
   "source": [
    "# There are 384 such observations\n",
    "display(len(offers[offers['price'] == \"Zapytajo\"]))\n",
    "offers = offers[offers['price'] != \"Zapytajo\"]"
   ]
  },
  {
   "cell_type": "markdown",
   "metadata": {},
   "source": [
    "Two values of number of rooms column need changing since they are not a numerical value. Since, as we see below, then number of rooms does not exceed 10 (apart from those 2 values - they state \"more than 10\"), I decided to set the number of those rooms to 11, which is not far off the rest of the distribution and fulfills the \"more than 10\" criterion."
   ]
  },
  {
   "cell_type": "code",
   "execution_count": 43,
   "metadata": {
    "ExecuteTime": {
     "end_time": "2021-01-17T11:03:52.446626Z",
     "start_time": "2021-01-17T11:03:52.431613Z"
    }
   },
   "outputs": [
    {
     "data": {
      "text/plain": [
       "2                4233\n",
       "3                4212\n",
       "4                1453\n",
       "1                1170\n",
       "5                 375\n",
       "6                  77\n",
       "7                  16\n",
       "9                   2\n",
       "więcej niż 10       2\n",
       "8                   1\n",
       "Name: no_rooms, dtype: int64"
      ]
     },
     "execution_count": 43,
     "metadata": {},
     "output_type": "execute_result"
    }
   ],
   "source": [
    "offers['no_rooms'].value_counts()"
   ]
  },
  {
   "cell_type": "code",
   "execution_count": 44,
   "metadata": {
    "ExecuteTime": {
     "end_time": "2021-01-17T11:03:52.462641Z",
     "start_time": "2021-01-17T11:03:52.447627Z"
    }
   },
   "outputs": [
    {
     "data": {
      "text/plain": [
       "2     4233\n",
       "3     4212\n",
       "4     1453\n",
       "1     1170\n",
       "5      375\n",
       "6       77\n",
       "7       16\n",
       "9        2\n",
       "11       2\n",
       "8        1\n",
       "Name: no_rooms, dtype: int64"
      ]
     },
     "execution_count": 44,
     "metadata": {},
     "output_type": "execute_result"
    }
   ],
   "source": [
    "offers['no_rooms'] = offers['no_rooms'].apply(\n",
    "    lambda x: 11 if type(x) != int else x)\n",
    "offers['no_rooms'].value_counts()"
   ]
  },
  {
   "cell_type": "markdown",
   "metadata": {},
   "source": [
    "Now we can apply the to_numeric function, which changes objects into floats. Our dataset has four values needing that transformation. Having done that, we can calculate some descriptive statistics to get a grasp of the data, how it is distributed, and what are the tendencies."
   ]
  },
  {
   "cell_type": "code",
   "execution_count": 45,
   "metadata": {
    "ExecuteTime": {
     "end_time": "2021-01-17T11:03:52.494670Z",
     "start_time": "2021-01-17T11:03:52.463642Z"
    }
   },
   "outputs": [],
   "source": [
    "numerical_vars = ['no_rooms', 'price', 'sq_metre', 'year_constr']\n",
    "offers[numerical_vars] = offers[numerical_vars].apply(pd.to_numeric)"
   ]
  },
  {
   "cell_type": "code",
   "execution_count": 46,
   "metadata": {
    "ExecuteTime": {
     "end_time": "2021-01-17T11:03:52.541866Z",
     "start_time": "2021-01-17T11:03:52.495671Z"
    }
   },
   "outputs": [
    {
     "data": {
      "text/html": [
       "<div>\n",
       "<style scoped>\n",
       "    .dataframe tbody tr th:only-of-type {\n",
       "        vertical-align: middle;\n",
       "    }\n",
       "\n",
       "    .dataframe tbody tr th {\n",
       "        vertical-align: top;\n",
       "    }\n",
       "\n",
       "    .dataframe thead th {\n",
       "        text-align: right;\n",
       "    }\n",
       "</style>\n",
       "<table border=\"1\" class=\"dataframe\">\n",
       "  <thead>\n",
       "    <tr style=\"text-align: right;\">\n",
       "      <th></th>\n",
       "      <th>balcony</th>\n",
       "      <th>basement</th>\n",
       "      <th>build_floors</th>\n",
       "      <th>build_material</th>\n",
       "      <th>build_type</th>\n",
       "      <th>condition</th>\n",
       "      <th>district</th>\n",
       "      <th>elevator</th>\n",
       "      <th>floor</th>\n",
       "      <th>garage</th>\n",
       "      <th>heating</th>\n",
       "      <th>market</th>\n",
       "      <th>no_rooms</th>\n",
       "      <th>offer_type</th>\n",
       "      <th>own_form</th>\n",
       "      <th>price</th>\n",
       "      <th>sq_metre</th>\n",
       "      <th>windows</th>\n",
       "      <th>year_constr</th>\n",
       "    </tr>\n",
       "  </thead>\n",
       "  <tbody>\n",
       "    <tr>\n",
       "      <th>count</th>\n",
       "      <td>11541.000</td>\n",
       "      <td>11541.000</td>\n",
       "      <td>11541.000</td>\n",
       "      <td>11541.000</td>\n",
       "      <td>11541.000</td>\n",
       "      <td>11541.000</td>\n",
       "      <td>11541.000</td>\n",
       "      <td>11541.000</td>\n",
       "      <td>11541.000</td>\n",
       "      <td>11541.000</td>\n",
       "      <td>11541.000</td>\n",
       "      <td>11541.000</td>\n",
       "      <td>11541.000</td>\n",
       "      <td>11541.000</td>\n",
       "      <td>11541.000</td>\n",
       "      <td>11541.000</td>\n",
       "      <td>11541.000</td>\n",
       "      <td>11541.000</td>\n",
       "      <td>10087.000</td>\n",
       "    </tr>\n",
       "    <tr>\n",
       "      <th>mean</th>\n",
       "      <td>0.598</td>\n",
       "      <td>0.285</td>\n",
       "      <td>5.802</td>\n",
       "      <td>2.575</td>\n",
       "      <td>1.627</td>\n",
       "      <td>1.824</td>\n",
       "      <td>11.985</td>\n",
       "      <td>0.631</td>\n",
       "      <td>3.193</td>\n",
       "      <td>0.501</td>\n",
       "      <td>3.181</td>\n",
       "      <td>0.749</td>\n",
       "      <td>2.650</td>\n",
       "      <td>1.252</td>\n",
       "      <td>0.952</td>\n",
       "      <td>754283.049</td>\n",
       "      <td>62.622</td>\n",
       "      <td>1.484</td>\n",
       "      <td>1997.775</td>\n",
       "    </tr>\n",
       "    <tr>\n",
       "      <th>std</th>\n",
       "      <td>0.490</td>\n",
       "      <td>0.451</td>\n",
       "      <td>2.900</td>\n",
       "      <td>2.894</td>\n",
       "      <td>1.157</td>\n",
       "      <td>1.242</td>\n",
       "      <td>7.676</td>\n",
       "      <td>0.483</td>\n",
       "      <td>2.786</td>\n",
       "      <td>0.500</td>\n",
       "      <td>2.333</td>\n",
       "      <td>0.433</td>\n",
       "      <td>1.004</td>\n",
       "      <td>0.656</td>\n",
       "      <td>0.811</td>\n",
       "      <td>641968.079</td>\n",
       "      <td>31.977</td>\n",
       "      <td>1.419</td>\n",
       "      <td>262.574</td>\n",
       "    </tr>\n",
       "    <tr>\n",
       "      <th>min</th>\n",
       "      <td>0.000</td>\n",
       "      <td>0.000</td>\n",
       "      <td>0.000</td>\n",
       "      <td>0.000</td>\n",
       "      <td>0.000</td>\n",
       "      <td>0.000</td>\n",
       "      <td>0.000</td>\n",
       "      <td>0.000</td>\n",
       "      <td>0.000</td>\n",
       "      <td>0.000</td>\n",
       "      <td>0.000</td>\n",
       "      <td>0.000</td>\n",
       "      <td>1.000</td>\n",
       "      <td>1.000</td>\n",
       "      <td>0.000</td>\n",
       "      <td>40000.000</td>\n",
       "      <td>11.000</td>\n",
       "      <td>0.000</td>\n",
       "      <td>60.000</td>\n",
       "    </tr>\n",
       "    <tr>\n",
       "      <th>25%</th>\n",
       "      <td>0.000</td>\n",
       "      <td>0.000</td>\n",
       "      <td>4.000</td>\n",
       "      <td>0.000</td>\n",
       "      <td>1.000</td>\n",
       "      <td>0.000</td>\n",
       "      <td>6.000</td>\n",
       "      <td>0.000</td>\n",
       "      <td>1.000</td>\n",
       "      <td>0.000</td>\n",
       "      <td>0.000</td>\n",
       "      <td>0.000</td>\n",
       "      <td>2.000</td>\n",
       "      <td>1.000</td>\n",
       "      <td>0.000</td>\n",
       "      <td>460000.000</td>\n",
       "      <td>43.000</td>\n",
       "      <td>0.000</td>\n",
       "      <td>1975.000</td>\n",
       "    </tr>\n",
       "    <tr>\n",
       "      <th>50%</th>\n",
       "      <td>1.000</td>\n",
       "      <td>0.000</td>\n",
       "      <td>5.000</td>\n",
       "      <td>3.000</td>\n",
       "      <td>2.000</td>\n",
       "      <td>2.000</td>\n",
       "      <td>10.000</td>\n",
       "      <td>1.000</td>\n",
       "      <td>3.000</td>\n",
       "      <td>1.000</td>\n",
       "      <td>5.000</td>\n",
       "      <td>1.000</td>\n",
       "      <td>3.000</td>\n",
       "      <td>1.000</td>\n",
       "      <td>1.000</td>\n",
       "      <td>591527.000</td>\n",
       "      <td>55.350</td>\n",
       "      <td>2.000</td>\n",
       "      <td>2007.000</td>\n",
       "    </tr>\n",
       "    <tr>\n",
       "      <th>75%</th>\n",
       "      <td>1.000</td>\n",
       "      <td>1.000</td>\n",
       "      <td>8.000</td>\n",
       "      <td>5.000</td>\n",
       "      <td>2.000</td>\n",
       "      <td>3.000</td>\n",
       "      <td>20.000</td>\n",
       "      <td>1.000</td>\n",
       "      <td>4.000</td>\n",
       "      <td>1.000</td>\n",
       "      <td>5.000</td>\n",
       "      <td>1.000</td>\n",
       "      <td>3.000</td>\n",
       "      <td>1.000</td>\n",
       "      <td>1.000</td>\n",
       "      <td>800000.000</td>\n",
       "      <td>72.540</td>\n",
       "      <td>3.000</td>\n",
       "      <td>2020.000</td>\n",
       "    </tr>\n",
       "    <tr>\n",
       "      <th>max</th>\n",
       "      <td>1.000</td>\n",
       "      <td>1.000</td>\n",
       "      <td>11.000</td>\n",
       "      <td>10.000</td>\n",
       "      <td>7.000</td>\n",
       "      <td>3.000</td>\n",
       "      <td>24.000</td>\n",
       "      <td>1.000</td>\n",
       "      <td>11.000</td>\n",
       "      <td>1.000</td>\n",
       "      <td>5.000</td>\n",
       "      <td>1.000</td>\n",
       "      <td>11.000</td>\n",
       "      <td>3.000</td>\n",
       "      <td>4.000</td>\n",
       "      <td>15000000.000</td>\n",
       "      <td>530.000</td>\n",
       "      <td>3.000</td>\n",
       "      <td>20202.000</td>\n",
       "    </tr>\n",
       "  </tbody>\n",
       "</table>\n",
       "</div>"
      ],
      "text/plain": [
       "        balcony  basement  build_floors  build_material  build_type  \\\n",
       "count 11541.000 11541.000     11541.000       11541.000   11541.000   \n",
       "mean      0.598     0.285         5.802           2.575       1.627   \n",
       "std       0.490     0.451         2.900           2.894       1.157   \n",
       "min       0.000     0.000         0.000           0.000       0.000   \n",
       "25%       0.000     0.000         4.000           0.000       1.000   \n",
       "50%       1.000     0.000         5.000           3.000       2.000   \n",
       "75%       1.000     1.000         8.000           5.000       2.000   \n",
       "max       1.000     1.000        11.000          10.000       7.000   \n",
       "\n",
       "       condition  district  elevator     floor    garage   heating    market  \\\n",
       "count  11541.000 11541.000 11541.000 11541.000 11541.000 11541.000 11541.000   \n",
       "mean       1.824    11.985     0.631     3.193     0.501     3.181     0.749   \n",
       "std        1.242     7.676     0.483     2.786     0.500     2.333     0.433   \n",
       "min        0.000     0.000     0.000     0.000     0.000     0.000     0.000   \n",
       "25%        0.000     6.000     0.000     1.000     0.000     0.000     0.000   \n",
       "50%        2.000    10.000     1.000     3.000     1.000     5.000     1.000   \n",
       "75%        3.000    20.000     1.000     4.000     1.000     5.000     1.000   \n",
       "max        3.000    24.000     1.000    11.000     1.000     5.000     1.000   \n",
       "\n",
       "       no_rooms  offer_type  own_form        price  sq_metre   windows  \\\n",
       "count 11541.000   11541.000 11541.000    11541.000 11541.000 11541.000   \n",
       "mean      2.650       1.252     0.952   754283.049    62.622     1.484   \n",
       "std       1.004       0.656     0.811   641968.079    31.977     1.419   \n",
       "min       1.000       1.000     0.000    40000.000    11.000     0.000   \n",
       "25%       2.000       1.000     0.000   460000.000    43.000     0.000   \n",
       "50%       3.000       1.000     1.000   591527.000    55.350     2.000   \n",
       "75%       3.000       1.000     1.000   800000.000    72.540     3.000   \n",
       "max      11.000       3.000     4.000 15000000.000   530.000     3.000   \n",
       "\n",
       "       year_constr  \n",
       "count    10087.000  \n",
       "mean      1997.775  \n",
       "std        262.574  \n",
       "min         60.000  \n",
       "25%       1975.000  \n",
       "50%       2007.000  \n",
       "75%       2020.000  \n",
       "max      20202.000  "
      ]
     },
     "execution_count": 46,
     "metadata": {},
     "output_type": "execute_result"
    }
   ],
   "source": [
    "offers.describe()"
   ]
  },
  {
   "cell_type": "markdown",
   "metadata": {},
   "source": [
    "However, there are two more issues that occurs in the *year of construction* column. First of all, there are 18 offers with abnormally early or late years of construction, which are probably the result of human errors while submitting the offer on the page. However, they could potentially bias the model so we will remove them from the set. \n",
    "\n",
    "The other problem is caused by quite few (1454) missing values in that column, which will be imputed with the median value for year of construction (2007). Although, it is quite a big generalisation, I do not think that this variable has a particular impact compared to some others (old tenement house can easily be much more expensive than freshly built block of flats). "
   ]
  },
  {
   "cell_type": "code",
   "execution_count": 47,
   "metadata": {
    "ExecuteTime": {
     "end_time": "2021-01-17T11:03:52.557880Z",
     "start_time": "2021-01-17T11:03:52.542867Z"
    }
   },
   "outputs": [
    {
     "data": {
      "text/html": [
       "<div>\n",
       "<style scoped>\n",
       "    .dataframe tbody tr th:only-of-type {\n",
       "        vertical-align: middle;\n",
       "    }\n",
       "\n",
       "    .dataframe tbody tr th {\n",
       "        vertical-align: top;\n",
       "    }\n",
       "\n",
       "    .dataframe thead th {\n",
       "        text-align: right;\n",
       "    }\n",
       "</style>\n",
       "<table border=\"1\" class=\"dataframe\">\n",
       "  <thead>\n",
       "    <tr style=\"text-align: right;\">\n",
       "      <th></th>\n",
       "      <th>balcony</th>\n",
       "      <th>basement</th>\n",
       "      <th>build_floors</th>\n",
       "      <th>build_material</th>\n",
       "      <th>build_type</th>\n",
       "      <th>condition</th>\n",
       "      <th>district</th>\n",
       "      <th>elevator</th>\n",
       "      <th>floor</th>\n",
       "      <th>garage</th>\n",
       "      <th>heating</th>\n",
       "      <th>market</th>\n",
       "      <th>no_rooms</th>\n",
       "      <th>offer_type</th>\n",
       "      <th>own_form</th>\n",
       "      <th>price</th>\n",
       "      <th>sq_metre</th>\n",
       "      <th>windows</th>\n",
       "      <th>year_constr</th>\n",
       "    </tr>\n",
       "  </thead>\n",
       "  <tbody>\n",
       "    <tr>\n",
       "      <th>123</th>\n",
       "      <td>1</td>\n",
       "      <td>1</td>\n",
       "      <td>3.000</td>\n",
       "      <td>0</td>\n",
       "      <td>2</td>\n",
       "      <td>3</td>\n",
       "      <td>20</td>\n",
       "      <td>0</td>\n",
       "      <td>2.000</td>\n",
       "      <td>1</td>\n",
       "      <td>5</td>\n",
       "      <td>1</td>\n",
       "      <td>4</td>\n",
       "      <td>1</td>\n",
       "      <td>2</td>\n",
       "      <td>560000.000</td>\n",
       "      <td>62.000</td>\n",
       "      <td>0</td>\n",
       "      <td>60.000</td>\n",
       "    </tr>\n",
       "    <tr>\n",
       "      <th>1031</th>\n",
       "      <td>0</td>\n",
       "      <td>0</td>\n",
       "      <td>7.000</td>\n",
       "      <td>5</td>\n",
       "      <td>1</td>\n",
       "      <td>3</td>\n",
       "      <td>16</td>\n",
       "      <td>0</td>\n",
       "      <td>7.000</td>\n",
       "      <td>1</td>\n",
       "      <td>5</td>\n",
       "      <td>1</td>\n",
       "      <td>3</td>\n",
       "      <td>1</td>\n",
       "      <td>1</td>\n",
       "      <td>949500.000</td>\n",
       "      <td>71.000</td>\n",
       "      <td>3</td>\n",
       "      <td>20156.000</td>\n",
       "    </tr>\n",
       "    <tr>\n",
       "      <th>1680</th>\n",
       "      <td>1</td>\n",
       "      <td>0</td>\n",
       "      <td>2.000</td>\n",
       "      <td>3</td>\n",
       "      <td>4</td>\n",
       "      <td>3</td>\n",
       "      <td>9</td>\n",
       "      <td>0</td>\n",
       "      <td>0.000</td>\n",
       "      <td>0</td>\n",
       "      <td>5</td>\n",
       "      <td>1</td>\n",
       "      <td>4</td>\n",
       "      <td>3</td>\n",
       "      <td>1</td>\n",
       "      <td>579000.000</td>\n",
       "      <td>61.500</td>\n",
       "      <td>3</td>\n",
       "      <td>1548.000</td>\n",
       "    </tr>\n",
       "    <tr>\n",
       "      <th>1776</th>\n",
       "      <td>0</td>\n",
       "      <td>1</td>\n",
       "      <td>2.000</td>\n",
       "      <td>3</td>\n",
       "      <td>4</td>\n",
       "      <td>3</td>\n",
       "      <td>23</td>\n",
       "      <td>0</td>\n",
       "      <td>2.000</td>\n",
       "      <td>0</td>\n",
       "      <td>5</td>\n",
       "      <td>1</td>\n",
       "      <td>2</td>\n",
       "      <td>3</td>\n",
       "      <td>1</td>\n",
       "      <td>485000.000</td>\n",
       "      <td>25.500</td>\n",
       "      <td>3</td>\n",
       "      <td>1780.000</td>\n",
       "    </tr>\n",
       "    <tr>\n",
       "      <th>3198</th>\n",
       "      <td>1</td>\n",
       "      <td>1</td>\n",
       "      <td>10.000</td>\n",
       "      <td>0</td>\n",
       "      <td>2</td>\n",
       "      <td>3</td>\n",
       "      <td>24</td>\n",
       "      <td>1</td>\n",
       "      <td>9.000</td>\n",
       "      <td>0</td>\n",
       "      <td>0</td>\n",
       "      <td>1</td>\n",
       "      <td>4</td>\n",
       "      <td>1</td>\n",
       "      <td>2</td>\n",
       "      <td>815000.000</td>\n",
       "      <td>74.000</td>\n",
       "      <td>0</td>\n",
       "      <td>70.000</td>\n",
       "    </tr>\n",
       "    <tr>\n",
       "      <th>5283</th>\n",
       "      <td>0</td>\n",
       "      <td>1</td>\n",
       "      <td>3.000</td>\n",
       "      <td>9</td>\n",
       "      <td>2</td>\n",
       "      <td>1</td>\n",
       "      <td>16</td>\n",
       "      <td>0</td>\n",
       "      <td>0.000</td>\n",
       "      <td>0</td>\n",
       "      <td>5</td>\n",
       "      <td>1</td>\n",
       "      <td>3</td>\n",
       "      <td>1</td>\n",
       "      <td>3</td>\n",
       "      <td>656200.000</td>\n",
       "      <td>77.200</td>\n",
       "      <td>3</td>\n",
       "      <td>83.000</td>\n",
       "    </tr>\n",
       "    <tr>\n",
       "      <th>6253</th>\n",
       "      <td>0</td>\n",
       "      <td>0</td>\n",
       "      <td>6.000</td>\n",
       "      <td>0</td>\n",
       "      <td>0</td>\n",
       "      <td>0</td>\n",
       "      <td>23</td>\n",
       "      <td>0</td>\n",
       "      <td>5.000</td>\n",
       "      <td>0</td>\n",
       "      <td>0</td>\n",
       "      <td>1</td>\n",
       "      <td>3</td>\n",
       "      <td>1</td>\n",
       "      <td>0</td>\n",
       "      <td>819000.000</td>\n",
       "      <td>58.500</td>\n",
       "      <td>0</td>\n",
       "      <td>976.000</td>\n",
       "    </tr>\n",
       "    <tr>\n",
       "      <th>6901</th>\n",
       "      <td>1</td>\n",
       "      <td>0</td>\n",
       "      <td>3.000</td>\n",
       "      <td>5</td>\n",
       "      <td>2</td>\n",
       "      <td>2</td>\n",
       "      <td>2</td>\n",
       "      <td>1</td>\n",
       "      <td>2.000</td>\n",
       "      <td>1</td>\n",
       "      <td>5</td>\n",
       "      <td>0</td>\n",
       "      <td>4</td>\n",
       "      <td>1</td>\n",
       "      <td>1</td>\n",
       "      <td>572000.000</td>\n",
       "      <td>70.360</td>\n",
       "      <td>3</td>\n",
       "      <td>2029.000</td>\n",
       "    </tr>\n",
       "    <tr>\n",
       "      <th>7229</th>\n",
       "      <td>0</td>\n",
       "      <td>1</td>\n",
       "      <td>2.000</td>\n",
       "      <td>3</td>\n",
       "      <td>4</td>\n",
       "      <td>2</td>\n",
       "      <td>23</td>\n",
       "      <td>0</td>\n",
       "      <td>0.000</td>\n",
       "      <td>0</td>\n",
       "      <td>0</td>\n",
       "      <td>1</td>\n",
       "      <td>2</td>\n",
       "      <td>1</td>\n",
       "      <td>1</td>\n",
       "      <td>990000.000</td>\n",
       "      <td>64.000</td>\n",
       "      <td>3</td>\n",
       "      <td>1780.000</td>\n",
       "    </tr>\n",
       "    <tr>\n",
       "      <th>7862</th>\n",
       "      <td>1</td>\n",
       "      <td>1</td>\n",
       "      <td>3.000</td>\n",
       "      <td>0</td>\n",
       "      <td>2</td>\n",
       "      <td>0</td>\n",
       "      <td>18</td>\n",
       "      <td>0</td>\n",
       "      <td>2.000</td>\n",
       "      <td>0</td>\n",
       "      <td>0</td>\n",
       "      <td>1</td>\n",
       "      <td>3</td>\n",
       "      <td>1</td>\n",
       "      <td>1</td>\n",
       "      <td>455000.000</td>\n",
       "      <td>58.800</td>\n",
       "      <td>3</td>\n",
       "      <td>80.000</td>\n",
       "    </tr>\n",
       "    <tr>\n",
       "      <th>8157</th>\n",
       "      <td>0</td>\n",
       "      <td>0</td>\n",
       "      <td>4.000</td>\n",
       "      <td>0</td>\n",
       "      <td>0</td>\n",
       "      <td>0</td>\n",
       "      <td>7</td>\n",
       "      <td>0</td>\n",
       "      <td>0.000</td>\n",
       "      <td>0</td>\n",
       "      <td>0</td>\n",
       "      <td>1</td>\n",
       "      <td>2</td>\n",
       "      <td>1</td>\n",
       "      <td>1</td>\n",
       "      <td>459000.000</td>\n",
       "      <td>37.000</td>\n",
       "      <td>0</td>\n",
       "      <td>1079.000</td>\n",
       "    </tr>\n",
       "    <tr>\n",
       "      <th>8625</th>\n",
       "      <td>0</td>\n",
       "      <td>0</td>\n",
       "      <td>10.000</td>\n",
       "      <td>0</td>\n",
       "      <td>2</td>\n",
       "      <td>3</td>\n",
       "      <td>20</td>\n",
       "      <td>1</td>\n",
       "      <td>2.000</td>\n",
       "      <td>0</td>\n",
       "      <td>0</td>\n",
       "      <td>1</td>\n",
       "      <td>1</td>\n",
       "      <td>1</td>\n",
       "      <td>3</td>\n",
       "      <td>353000.000</td>\n",
       "      <td>21.000</td>\n",
       "      <td>3</td>\n",
       "      <td>1070.000</td>\n",
       "    </tr>\n",
       "    <tr>\n",
       "      <th>9452</th>\n",
       "      <td>1</td>\n",
       "      <td>0</td>\n",
       "      <td>3.000</td>\n",
       "      <td>3</td>\n",
       "      <td>4</td>\n",
       "      <td>2</td>\n",
       "      <td>9</td>\n",
       "      <td>1</td>\n",
       "      <td>2.000</td>\n",
       "      <td>1</td>\n",
       "      <td>3</td>\n",
       "      <td>0</td>\n",
       "      <td>5</td>\n",
       "      <td>1</td>\n",
       "      <td>1</td>\n",
       "      <td>984126.000</td>\n",
       "      <td>105.820</td>\n",
       "      <td>2</td>\n",
       "      <td>20202.000</td>\n",
       "    </tr>\n",
       "    <tr>\n",
       "      <th>9858</th>\n",
       "      <td>1</td>\n",
       "      <td>1</td>\n",
       "      <td>10.000</td>\n",
       "      <td>0</td>\n",
       "      <td>2</td>\n",
       "      <td>3</td>\n",
       "      <td>9</td>\n",
       "      <td>1</td>\n",
       "      <td>10.000</td>\n",
       "      <td>0</td>\n",
       "      <td>0</td>\n",
       "      <td>1</td>\n",
       "      <td>2</td>\n",
       "      <td>1</td>\n",
       "      <td>2</td>\n",
       "      <td>453000.000</td>\n",
       "      <td>52.660</td>\n",
       "      <td>0</td>\n",
       "      <td>80.000</td>\n",
       "    </tr>\n",
       "    <tr>\n",
       "      <th>10573</th>\n",
       "      <td>0</td>\n",
       "      <td>1</td>\n",
       "      <td>10.000</td>\n",
       "      <td>0</td>\n",
       "      <td>2</td>\n",
       "      <td>3</td>\n",
       "      <td>20</td>\n",
       "      <td>1</td>\n",
       "      <td>5.000</td>\n",
       "      <td>0</td>\n",
       "      <td>5</td>\n",
       "      <td>1</td>\n",
       "      <td>1</td>\n",
       "      <td>1</td>\n",
       "      <td>1</td>\n",
       "      <td>369000.000</td>\n",
       "      <td>26.600</td>\n",
       "      <td>0</td>\n",
       "      <td>1068.000</td>\n",
       "    </tr>\n",
       "    <tr>\n",
       "      <th>10721</th>\n",
       "      <td>1</td>\n",
       "      <td>1</td>\n",
       "      <td>10.000</td>\n",
       "      <td>10</td>\n",
       "      <td>2</td>\n",
       "      <td>0</td>\n",
       "      <td>20</td>\n",
       "      <td>1</td>\n",
       "      <td>3.000</td>\n",
       "      <td>0</td>\n",
       "      <td>5</td>\n",
       "      <td>1</td>\n",
       "      <td>4</td>\n",
       "      <td>1</td>\n",
       "      <td>1</td>\n",
       "      <td>710000.000</td>\n",
       "      <td>59.000</td>\n",
       "      <td>3</td>\n",
       "      <td>197.000</td>\n",
       "    </tr>\n",
       "    <tr>\n",
       "      <th>11633</th>\n",
       "      <td>0</td>\n",
       "      <td>0</td>\n",
       "      <td>1.000</td>\n",
       "      <td>3</td>\n",
       "      <td>4</td>\n",
       "      <td>1</td>\n",
       "      <td>23</td>\n",
       "      <td>0</td>\n",
       "      <td>0.000</td>\n",
       "      <td>0</td>\n",
       "      <td>5</td>\n",
       "      <td>1</td>\n",
       "      <td>2</td>\n",
       "      <td>1</td>\n",
       "      <td>1</td>\n",
       "      <td>990000.000</td>\n",
       "      <td>64.000</td>\n",
       "      <td>0</td>\n",
       "      <td>1780.000</td>\n",
       "    </tr>\n",
       "    <tr>\n",
       "      <th>11777</th>\n",
       "      <td>0</td>\n",
       "      <td>0</td>\n",
       "      <td>10.000</td>\n",
       "      <td>0</td>\n",
       "      <td>2</td>\n",
       "      <td>3</td>\n",
       "      <td>20</td>\n",
       "      <td>1</td>\n",
       "      <td>2.000</td>\n",
       "      <td>0</td>\n",
       "      <td>0</td>\n",
       "      <td>1</td>\n",
       "      <td>1</td>\n",
       "      <td>1</td>\n",
       "      <td>3</td>\n",
       "      <td>353000.000</td>\n",
       "      <td>21.000</td>\n",
       "      <td>3</td>\n",
       "      <td>1070.000</td>\n",
       "    </tr>\n",
       "  </tbody>\n",
       "</table>\n",
       "</div>"
      ],
      "text/plain": [
       "       balcony  basement  build_floors  build_material  build_type  condition  \\\n",
       "123          1         1         3.000               0           2          3   \n",
       "1031         0         0         7.000               5           1          3   \n",
       "1680         1         0         2.000               3           4          3   \n",
       "1776         0         1         2.000               3           4          3   \n",
       "3198         1         1        10.000               0           2          3   \n",
       "5283         0         1         3.000               9           2          1   \n",
       "6253         0         0         6.000               0           0          0   \n",
       "6901         1         0         3.000               5           2          2   \n",
       "7229         0         1         2.000               3           4          2   \n",
       "7862         1         1         3.000               0           2          0   \n",
       "8157         0         0         4.000               0           0          0   \n",
       "8625         0         0        10.000               0           2          3   \n",
       "9452         1         0         3.000               3           4          2   \n",
       "9858         1         1        10.000               0           2          3   \n",
       "10573        0         1        10.000               0           2          3   \n",
       "10721        1         1        10.000              10           2          0   \n",
       "11633        0         0         1.000               3           4          1   \n",
       "11777        0         0        10.000               0           2          3   \n",
       "\n",
       "       district  elevator  floor  garage  heating  market  no_rooms  \\\n",
       "123          20         0  2.000       1        5       1         4   \n",
       "1031         16         0  7.000       1        5       1         3   \n",
       "1680          9         0  0.000       0        5       1         4   \n",
       "1776         23         0  2.000       0        5       1         2   \n",
       "3198         24         1  9.000       0        0       1         4   \n",
       "5283         16         0  0.000       0        5       1         3   \n",
       "6253         23         0  5.000       0        0       1         3   \n",
       "6901          2         1  2.000       1        5       0         4   \n",
       "7229         23         0  0.000       0        0       1         2   \n",
       "7862         18         0  2.000       0        0       1         3   \n",
       "8157          7         0  0.000       0        0       1         2   \n",
       "8625         20         1  2.000       0        0       1         1   \n",
       "9452          9         1  2.000       1        3       0         5   \n",
       "9858          9         1 10.000       0        0       1         2   \n",
       "10573        20         1  5.000       0        5       1         1   \n",
       "10721        20         1  3.000       0        5       1         4   \n",
       "11633        23         0  0.000       0        5       1         2   \n",
       "11777        20         1  2.000       0        0       1         1   \n",
       "\n",
       "       offer_type  own_form      price  sq_metre  windows  year_constr  \n",
       "123             1         2 560000.000    62.000        0       60.000  \n",
       "1031            1         1 949500.000    71.000        3    20156.000  \n",
       "1680            3         1 579000.000    61.500        3     1548.000  \n",
       "1776            3         1 485000.000    25.500        3     1780.000  \n",
       "3198            1         2 815000.000    74.000        0       70.000  \n",
       "5283            1         3 656200.000    77.200        3       83.000  \n",
       "6253            1         0 819000.000    58.500        0      976.000  \n",
       "6901            1         1 572000.000    70.360        3     2029.000  \n",
       "7229            1         1 990000.000    64.000        3     1780.000  \n",
       "7862            1         1 455000.000    58.800        3       80.000  \n",
       "8157            1         1 459000.000    37.000        0     1079.000  \n",
       "8625            1         3 353000.000    21.000        3     1070.000  \n",
       "9452            1         1 984126.000   105.820        2    20202.000  \n",
       "9858            1         2 453000.000    52.660        0       80.000  \n",
       "10573           1         1 369000.000    26.600        0     1068.000  \n",
       "10721           1         1 710000.000    59.000        3      197.000  \n",
       "11633           1         1 990000.000    64.000        0     1780.000  \n",
       "11777           1         3 353000.000    21.000        3     1070.000  "
      ]
     },
     "metadata": {},
     "output_type": "display_data"
    },
    {
     "data": {
      "text/plain": [
       "1454"
      ]
     },
     "metadata": {},
     "output_type": "display_data"
    }
   ],
   "source": [
    "display(offers[(offers[\"year_constr\"] > 2022)\n",
    "               | (offers[\"year_constr\"] < 1800)])\n",
    "display(offers[\"year_constr\"].isna().sum())"
   ]
  },
  {
   "cell_type": "code",
   "execution_count": 48,
   "metadata": {
    "ExecuteTime": {
     "end_time": "2021-01-17T11:03:52.573895Z",
     "start_time": "2021-01-17T11:03:52.558881Z"
    }
   },
   "outputs": [],
   "source": [
    "offers['year_constr'].fillna(offers['year_constr'].median(), inplace=True)"
   ]
  },
  {
   "cell_type": "code",
   "execution_count": 49,
   "metadata": {
    "ExecuteTime": {
     "end_time": "2021-01-17T11:03:52.589910Z",
     "start_time": "2021-01-17T11:03:52.574897Z"
    }
   },
   "outputs": [],
   "source": [
    "offers = offers[(offers[\"year_constr\"] <= 2022) &\n",
    "                (offers[\"year_constr\"] >= 1800)]"
   ]
  },
  {
   "cell_type": "code",
   "execution_count": 50,
   "metadata": {
    "ExecuteTime": {
     "end_time": "2021-01-17T11:03:52.605428Z",
     "start_time": "2021-01-17T11:03:52.590910Z"
    }
   },
   "outputs": [
    {
     "data": {
      "text/plain": [
       "(11523, 19)"
      ]
     },
     "execution_count": 50,
     "metadata": {},
     "output_type": "execute_result"
    }
   ],
   "source": [
    "offers.shape"
   ]
  },
  {
   "cell_type": "markdown",
   "metadata": {},
   "source": [
    "Of the initial 12 229 observations we are left with 11 523, from which most were removed due to low numbers of invalid data for each specific column. Some other missing values were imputed, as they had more incomplete observations and losing them would significantly reduce the size of the dataset. Of course one could try filling all the missing values with predicted ones, but whether it would improve the results is questionable (not many were removed, thus not much of an impact probably). The two imputed variables was the number of floors in the building, filling with the smallest reasonable number and the year of construction, which was filled, arbitrarily, by the median (year 2007). The number of variables remained the same, since, for now, the nominal variables were not one-hot encoded."
   ]
  },
  {
   "cell_type": "markdown",
   "metadata": {
    "ExecuteTime": {
     "end_time": "2021-01-12T11:53:40.554738Z",
     "start_time": "2021-01-12T11:53:40.550735Z"
    }
   },
   "source": [
    "## Basic exploratory data anaylsis"
   ]
  },
  {
   "cell_type": "markdown",
   "metadata": {},
   "source": [
    "Below I will present some descriptive statistics and visualizations to represent the dataset and see what kind of characteristics the variables possess. The reason for this is to see whether some observations need to be removed, despite best efforts not to remove to many in the previous chapter. First let's start with the target variable: **price**."
   ]
  },
  {
   "cell_type": "code",
   "execution_count": 51,
   "metadata": {
    "ExecuteTime": {
     "end_time": "2021-01-17T11:03:52.621444Z",
     "start_time": "2021-01-17T11:03:52.606429Z"
    }
   },
   "outputs": [
    {
     "data": {
      "text/plain": [
       "count      11523.000\n",
       "mean      754458.808\n",
       "std       642392.726\n",
       "min        40000.000\n",
       "25%       460000.000\n",
       "50%       591700.000\n",
       "75%       800000.000\n",
       "max     15000000.000\n",
       "Name: price, dtype: float64"
      ]
     },
     "execution_count": 51,
     "metadata": {},
     "output_type": "execute_result"
    }
   ],
   "source": [
    "pd.set_option('display.float_format', lambda x: '%.3f' % x)\n",
    "offers.price.describe()"
   ]
  },
  {
   "cell_type": "markdown",
   "metadata": {},
   "source": [
    "It is clear and obvious that half of the offers are beneath the price of ~600k PLN, but the mean is around 750k PLN, which means that there are quite a few big outliers. We can also see that the max price is equal to 15 million PLN, which is significantly skewing the distribution. The boxplot below shows the distribution of the price values and it seems to convince us further that there are numerous outliers in the data. 75% of the observations are below the 800k threshold, while the remaining 25% seem to ramp up the price substantially. "
   ]
  },
  {
   "cell_type": "code",
   "execution_count": 52,
   "metadata": {
    "ExecuteTime": {
     "end_time": "2021-01-17T11:03:52.749562Z",
     "start_time": "2021-01-17T11:03:52.622444Z"
    }
   },
   "outputs": [
    {
     "data": {
      "image/png": "[encoded data removed]",
      "text/plain": [
       "<Figure size 1152x360 with 1 Axes>"
      ]
     },
     "metadata": {},
     "output_type": "display_data"
    }
   ],
   "source": [
    "import matplotlib.pyplot as plt\n",
    "import seaborn as sns\n",
    "\n",
    "plt.rcParams['figure.figsize'] = [16, 5]\n",
    "\n",
    "sns.set_theme(style=\"whitegrid\")\n",
    "ax = sns.boxplot(x=offers[\"price\"])"
   ]
  },
  {
   "cell_type": "markdown",
   "metadata": {},
   "source": [
    "Since outliers tend to have big impact on predicting continuous variables, I decided to stick to the vast majority of the observations that are in the range of <0,1 million>. Below we can see the boxplot of prices of 1 million or less PLN and that threshold removes the outliers while still leaving almost 10 thousand observations. There is only one outlying value, but it is relatively close to the left whisker of the boxplot. Since we have enough observations remaining and the outliers can significantly bias the models, the input data for them will contain just offers, which price does not exceed 1 million. The removal of the outliers proved to significantly decrease the mean absolute errors of each of the models, reducing the spread by 10, or even 20, thousand PLN (part of the testing process, not included in this project)."
   ]
  },
  {
   "cell_type": "code",
   "execution_count": 53,
   "metadata": {
    "ExecuteTime": {
     "end_time": "2021-01-17T11:03:52.861664Z",
     "start_time": "2021-01-17T11:03:52.750563Z"
    }
   },
   "outputs": [
    {
     "name": "stdout",
     "output_type": "stream",
     "text": [
      "(9753, 19)\n"
     ]
    },
    {
     "data": {
      "image/png": "[encoded data removed]",
      "text/plain": [
       "<Figure size 1152x360 with 1 Axes>"
      ]
     },
     "metadata": {},
     "output_type": "display_data"
    }
   ],
   "source": [
    "offers = offers[offers[\"price\"] <= 1000000]\n",
    "\n",
    "print(offers.shape)\n",
    "\n",
    "plt.rcParams['figure.figsize'] = [16, 5]\n",
    "\n",
    "sns.set_theme(style=\"whitegrid\")\n",
    "ax = sns.boxplot(x=offers[\"price\"])"
   ]
  },
  {
   "cell_type": "markdown",
   "metadata": {},
   "source": [
    "Below, shown is a table containing descriptive statistics for other variables that can be considered as continuous, or at least numerical. We can see that 50% of apartments are located on the 2nd or lower floor (value 0 is 1st floor or \"parter\" - our second floor is third floor in USA), while only 25% being higher than 5th floor. The buildings, in which the apartment is located, are usually around 5 stories tall. 75% of the houses have 3 or less rooms and 63 or less square metres. Half of the houses were built pre-2007 and some of them are much older than others leading to the mean being equal to the year 1997.\n",
    "\n",
    "Basing on the means, the most average offer on the site would be a 6-story tall building built in 1997, located on the 3rd floor, having 2 and a half rooms (does not make sense, but it is only for the sake of averaging) and 53 square metres."
   ]
  },
  {
   "cell_type": "code",
   "execution_count": 54,
   "metadata": {
    "ExecuteTime": {
     "end_time": "2021-01-17T11:03:52.892697Z",
     "start_time": "2021-01-17T11:03:52.864667Z"
    }
   },
   "outputs": [
    {
     "data": {
      "text/html": [
       "<div>\n",
       "<style scoped>\n",
       "    .dataframe tbody tr th:only-of-type {\n",
       "        vertical-align: middle;\n",
       "    }\n",
       "\n",
       "    .dataframe tbody tr th {\n",
       "        vertical-align: top;\n",
       "    }\n",
       "\n",
       "    .dataframe thead th {\n",
       "        text-align: right;\n",
       "    }\n",
       "</style>\n",
       "<table border=\"1\" class=\"dataframe\">\n",
       "  <thead>\n",
       "    <tr style=\"text-align: right;\">\n",
       "      <th></th>\n",
       "      <th>floor</th>\n",
       "      <th>build_floors</th>\n",
       "      <th>no_rooms</th>\n",
       "      <th>sq_metre</th>\n",
       "      <th>year_constr</th>\n",
       "    </tr>\n",
       "  </thead>\n",
       "  <tbody>\n",
       "    <tr>\n",
       "      <th>count</th>\n",
       "      <td>9753.000</td>\n",
       "      <td>9753.000</td>\n",
       "      <td>9753.000</td>\n",
       "      <td>9753.000</td>\n",
       "      <td>9753.000</td>\n",
       "    </tr>\n",
       "    <tr>\n",
       "      <th>mean</th>\n",
       "      <td>3.103</td>\n",
       "      <td>5.824</td>\n",
       "      <td>2.455</td>\n",
       "      <td>53.605</td>\n",
       "      <td>1997.188</td>\n",
       "    </tr>\n",
       "    <tr>\n",
       "      <th>std</th>\n",
       "      <td>2.722</td>\n",
       "      <td>2.904</td>\n",
       "      <td>0.873</td>\n",
       "      <td>18.497</td>\n",
       "      <td>25.053</td>\n",
       "    </tr>\n",
       "    <tr>\n",
       "      <th>min</th>\n",
       "      <td>0.000</td>\n",
       "      <td>0.000</td>\n",
       "      <td>1.000</td>\n",
       "      <td>11.000</td>\n",
       "      <td>1850.000</td>\n",
       "    </tr>\n",
       "    <tr>\n",
       "      <th>25%</th>\n",
       "      <td>1.000</td>\n",
       "      <td>4.000</td>\n",
       "      <td>2.000</td>\n",
       "      <td>40.200</td>\n",
       "      <td>1976.000</td>\n",
       "    </tr>\n",
       "    <tr>\n",
       "      <th>50%</th>\n",
       "      <td>2.000</td>\n",
       "      <td>5.000</td>\n",
       "      <td>2.000</td>\n",
       "      <td>52.000</td>\n",
       "      <td>2007.000</td>\n",
       "    </tr>\n",
       "    <tr>\n",
       "      <th>75%</th>\n",
       "      <td>4.000</td>\n",
       "      <td>8.000</td>\n",
       "      <td>3.000</td>\n",
       "      <td>63.000</td>\n",
       "      <td>2019.000</td>\n",
       "    </tr>\n",
       "    <tr>\n",
       "      <th>max</th>\n",
       "      <td>11.000</td>\n",
       "      <td>11.000</td>\n",
       "      <td>11.000</td>\n",
       "      <td>247.000</td>\n",
       "      <td>2022.000</td>\n",
       "    </tr>\n",
       "  </tbody>\n",
       "</table>\n",
       "</div>"
      ],
      "text/plain": [
       "         floor  build_floors  no_rooms  sq_metre  year_constr\n",
       "count 9753.000      9753.000  9753.000  9753.000     9753.000\n",
       "mean     3.103         5.824     2.455    53.605     1997.188\n",
       "std      2.722         2.904     0.873    18.497       25.053\n",
       "min      0.000         0.000     1.000    11.000     1850.000\n",
       "25%      1.000         4.000     2.000    40.200     1976.000\n",
       "50%      2.000         5.000     2.000    52.000     2007.000\n",
       "75%      4.000         8.000     3.000    63.000     2019.000\n",
       "max     11.000        11.000    11.000   247.000     2022.000"
      ]
     },
     "execution_count": 54,
     "metadata": {},
     "output_type": "execute_result"
    }
   ],
   "source": [
    "numerical_vars = ['floor', 'build_floors', 'no_rooms', 'sq_metre', 'year_constr']\n",
    "offers[numerical_vars].describe()"
   ]
  },
  {
   "cell_type": "markdown",
   "metadata": {},
   "source": [
    "Below we can see the fractions representing how often does certain amenity occur among the offers. We can observe that most offers come with a balcony, in a building with elevator and roughly half have a garage/parking space available. Slightly more than 1/4 of the offers additionally have a basement. Almost 75% of the offers is of \"used\" apartments and houses and are sold on the secondary market."
   ]
  },
  {
   "cell_type": "code",
   "execution_count": 55,
   "metadata": {
    "ExecuteTime": {
     "end_time": "2021-01-17T11:03:52.907712Z",
     "start_time": "2021-01-17T11:03:52.894699Z"
    }
   },
   "outputs": [
    {
     "name": "stdout",
     "output_type": "stream",
     "text": [
      "Fraction of offers with balcony: 0.604 \n",
      "\n",
      "Fraction of offers with basement: 0.294 \n",
      "\n",
      "Fraction of offers with elevator: 0.617 \n",
      "\n",
      "Fraction of offers with garage: 0.47 \n",
      "\n",
      "Fraction of offers on secondary market: 0.743 \n",
      "\n"
     ]
    }
   ],
   "source": [
    "print(\"Fraction of offers with balcony: {} \\n\".format(round(np.mean(offers.balcony),3))) \n",
    "print(\"Fraction of offers with basement: {} \\n\".format(round(np.mean(offers.basement),3))) \n",
    "print(\"Fraction of offers with elevator: {} \\n\".format(round(np.mean(offers.elevator),3))) \n",
    "print(\"Fraction of offers with garage: {} \\n\".format(round(np.mean(offers.garage),3))) \n",
    "print(\"Fraction of offers on secondary market: {} \\n\".format(round(np.mean(offers.market),3))) "
   ]
  },
  {
   "cell_type": "markdown",
   "metadata": {},
   "source": [
    "Below we can see the plots showing the distributions of the nominal values. Since there are many different values, I won't be describing each and every one of them as it would be time-consuming and not essential to the project. The insight that we can gather from most of the plots is that all variables (apart from *Condition*) have severe under-representations in some of their categories. That can be partially because of human error - not knowing, which category to choose while creating an offer and thus creating a separate one. Other explanation is simply that there are some observations (houses/apartments) with rare, one of a kind features or possibly due to them being old, designed to order and so forth. Districts being underrepresented stems from the fact that some of the 25 values are probably just sub-districs of a larger one and some people do not specify that in their offers. As far as windows and heating is concerned, the differences in distribution of values is most probably due to the fact that newer solutions supersede the old solutions (like plastic windows superseded wooden ones)."
   ]
  },
  {
   "cell_type": "code",
   "execution_count": 56,
   "metadata": {
    "ExecuteTime": {
     "end_time": "2021-01-17T11:03:53.708066Z",
     "start_time": "2021-01-17T11:03:52.908712Z"
    }
   },
   "outputs": [
    {
     "data": {
      "image/png": "[encoded data removed]",
      "text/plain": [
       "<Figure size 1152x1080 with 8 Axes>"
      ]
     },
     "metadata": {},
     "output_type": "display_data"
    }
   ],
   "source": [
    "import matplotlib.pyplot as plt\n",
    "\n",
    "sns.set_theme(style=\"whitegrid\")\n",
    "\n",
    "plt.rcParams['figure.figsize'] = [16, 15]\n",
    "\n",
    "fig, ((ax1, ax2), (ax3, ax4), (ax5, ax6), (ax7, ax8)) = plt.subplots(4, 2)\n",
    "sns.countplot(x=\"build_material\", data=offers, ax=ax1)\n",
    "sns.countplot(x=\"build_type\", data=offers, ax=ax2)\n",
    "sns.countplot(x=\"condition\", data=offers, ax=ax3)\n",
    "sns.countplot(x=\"district\", data=offers, ax=ax4)\n",
    "sns.countplot(x=\"heating\", data=offers, ax=ax5)\n",
    "sns.countplot(x=\"offer_type\", data=offers, ax=ax6)\n",
    "sns.countplot(x=\"own_form\", data=offers, ax=ax7)\n",
    "sns.countplot(x=\"windows\", data=offers, ax=ax8)\n",
    "fig.show()"
   ]
  },
  {
   "cell_type": "markdown",
   "metadata": {},
   "source": [
    "# Modeling\n",
    "\n",
    "The first step in the modeling process will be creating the benchmark model. In this study, I decided to use a simple Decision Tree Regressor as a basic model for predicting the price. The amount of tuning of this model will be small, since its main purpose is to show the difference in quality of prediction between a relatively \"vanilla\" model and an ensemble model with hyperparameter tuning. \n",
    "\n"
   ]
  },
  {
   "cell_type": "markdown",
   "metadata": {
    "ExecuteTime": {
     "end_time": "2021-01-14T16:16:58.756340Z",
     "start_time": "2021-01-14T16:16:58.738332Z"
    }
   },
   "source": [
    "In order to improve the quality of predictions the data is now one-hot encoded (nominal variables) and standardized (numerical variables). The final data that will be input into the models contains of 9753 observations and 95 variables (great increase due to binarization). Such solution proves to increase the accuracy of each of the models, as the nominal variables are now not forming dependencies like mentioned before (district being \"worth\" twice the other district)."
   ]
  },
  {
   "cell_type": "code",
   "execution_count": 57,
   "metadata": {
    "ExecuteTime": {
     "end_time": "2021-01-17T11:03:53.740121Z",
     "start_time": "2021-01-17T11:03:53.710077Z"
    }
   },
   "outputs": [
    {
     "data": {
      "text/plain": [
       "(9753, 95)"
      ]
     },
     "execution_count": 57,
     "metadata": {},
     "output_type": "execute_result"
    }
   ],
   "source": [
    "dummies = offers[[\"build_material\", \"build_type\", \"condition\", \"district\", \"heating\", \n",
    "                  \"offer_type\", \"own_form\", \"windows\", \"floor\", \"build_floors\", \"no_rooms\"]].astype(object)\n",
    "dummies = pd.get_dummies(dummies, drop_first = True)\n",
    "numerical = offers[[\"sq_metre\", \"year_constr\"]].apply(lambda x: (x-x.mean())/x.std())\n",
    "\n",
    "offers_ready = pd.concat([offers[[\"balcony\", \"basement\", \"elevator\", \"garage\", \"market\", \"price\"]], numerical, dummies], axis=1)\n",
    "\n",
    "offers_ready.shape"
   ]
  },
  {
   "cell_type": "markdown",
   "metadata": {},
   "source": [
    "## Benchmark Model - Decision Tree Regressor"
   ]
  },
  {
   "cell_type": "markdown",
   "metadata": {},
   "source": [
    "The Decision Tree Regressor will have two parameters optimized using GridSearchCV: max depth of the tree and minimum samples to be at a leaf node. It will be done along the 5-fold cross validation on the training set (which is 70% of the entire dataset) to find the parameter yielding the best results. Then the model yielding best results will predict on the set on which it was trained to see whether overfitting is occurring. Also, random state is specified to receive constant results.\n",
    "\n",
    "As we can see from the output, the optimal depth is 14 and min_samples_leaf is 10. It results in prices being predicted, on average, wrongly by roughly 62k PLN (Mean Absolute Error). When considering the more expensive apartments (with prices nearing the price of million) it does not seem to be that big of a mismatch, however, for most potential buyers it is a significant amount of money, which could make or break the deal. In order to improve the predictions, other models will be created and then compared to this benchmark model."
   ]
  },
  {
   "cell_type": "code",
   "execution_count": 58,
   "metadata": {
    "ExecuteTime": {
     "end_time": "2021-01-17T11:04:12.709764Z",
     "start_time": "2021-01-17T11:03:53.741101Z"
    }
   },
   "outputs": [
    {
     "name": "stdout",
     "output_type": "stream",
     "text": [
      "Tuned parameters: {'max_depth': 14, 'min_samples_leaf': 10} \n",
      "\n",
      "Mean absolute error TEST: 62044.813\n",
      "Mean absolute error TRAIN: 49453.619\n"
     ]
    }
   ],
   "source": [
    "from sklearn.tree import DecisionTreeRegressor\n",
    "from sklearn.model_selection import train_test_split\n",
    "from sklearn.model_selection import GridSearchCV\n",
    "from sklearn.metrics import mean_absolute_error\n",
    "\n",
    "X = offers_ready.drop('price', axis = 1)\n",
    "y = offers_ready.price\n",
    "X_train, X_test, y_train, y_test = train_test_split(X, y, test_size=0.3, random_state=2021)\n",
    "\n",
    "param_grid_dt = {'max_depth': np.arange(5, 16, 1), 'min_samples_leaf': np.arange(5,16,1)}\n",
    "\n",
    "dt = DecisionTreeRegressor(random_state=2021)\n",
    "dt_cv = GridSearchCV(dt, param_grid_dt, cv=5)\n",
    "\n",
    "dt_cv.fit(X_train, y_train)\n",
    "\n",
    "# TEST\n",
    "y_pred_bench = dt_cv.predict(X_test)\n",
    "\n",
    "MAE_bench = mean_absolute_error(y_test, y_pred_bench)\n",
    "print(\"Tuned parameters: {} \\n\".format(dt_cv.best_params_))\n",
    "print(\"Mean absolute error TEST: %.3f\" % MAE_bench)\n",
    "\n",
    "# TRAIN\n",
    "y_pred = dt_cv.predict(X_train)\n",
    "\n",
    "MAE = mean_absolute_error(y_train, y_pred)\n",
    "print(\"Mean absolute error TRAIN: %.3f\" % MAE)"
   ]
  },
  {
   "cell_type": "markdown",
   "metadata": {},
   "source": [
    "Calculations above show the MAE for train set and we can see that same model (with max_depth=14 and min_samples_leaf=10) has significantly lower error than for the test set (difference of 12k). Decision Trees are prone to overfitting and this case is a very good example of such behaviour. Since it is only a benchmark model, I will leave the overfitting as it is and try to make the ensemble model without overfitting to show it as an another advantage over the bench."
   ]
  },
  {
   "cell_type": "markdown",
   "metadata": {
    "ExecuteTime": {
     "end_time": "2021-01-12T13:53:34.241983Z",
     "start_time": "2021-01-12T13:53:34.233977Z"
    }
   },
   "source": [
    "## Main model"
   ]
  },
  {
   "cell_type": "markdown",
   "metadata": {},
   "source": [
    "The final model will be an ensemble model composed of three separate models:\n",
    "  \n",
    "    1. Random Forest\n",
    "    2. Gradient Boosting\n",
    "    3. Neural Network\n",
    "    \n",
    "Each of the models will be created and tuned individually and then supplied into the final VotingRegressor model, which averages the predictions of supplied Regressor models with accordance to specified weights. A simple visual representation of the architecture of the final model is shown below:   \n",
    "  \n",
    "<img src=\"graph2.png\">"
   ]
  },
  {
   "cell_type": "markdown",
   "metadata": {
    "ExecuteTime": {
     "end_time": "2021-01-12T13:54:35.788667Z",
     "start_time": "2021-01-12T13:54:35.785664Z"
    }
   },
   "source": [
    "### Random Forest"
   ]
  },
  {
   "cell_type": "markdown",
   "metadata": {},
   "source": [
    "We begin with Random Forest (a bagging algorithm) and perform a grid search along the optimal number of trees in the forest and min_samples_leaf. The ranges of parameter grid in all models were previously narrowed down by testing. Again, 3-fold cross-validation is conducted simultaneously. The max_depth of tree was adapted to smaller value than in the decision tree as with its increase the model tended to overfit substantially. The optimal number of trees from the range provided is 1350 and min_samples_leaf is 2. For that values of hyperparameters we can see that we have a very small improvement from the previous model. However, we now have much more similar train set MAE, so it seems that the overfitting problem is smaller."
   ]
  },
  {
   "cell_type": "code",
   "execution_count": 59,
   "metadata": {
    "ExecuteTime": {
     "end_time": "2021-01-17T11:05:56.711557Z",
     "start_time": "2021-01-17T11:04:12.710765Z"
    }
   },
   "outputs": [
    {
     "name": "stdout",
     "output_type": "stream",
     "text": [
      "Tuned parameter: {'min_samples_leaf': 2, 'n_estimators': 1350} \n",
      "\n",
      "Mean absolute error TEST: 61875.987\n",
      "Mean absolute error TRAIN: 55664.681\n"
     ]
    }
   ],
   "source": [
    "from sklearn.ensemble import RandomForestRegressor\n",
    "\n",
    "param_grid_rf = {'n_estimators': [1300, 1350, 1400], 'min_samples_leaf':[1,2,3]}\n",
    "\n",
    "rf = RandomForestRegressor(random_state=2021, max_depth=8, n_jobs=-1)\n",
    "rf_cv = GridSearchCV(rf, param_grid_rf, cv=3)\n",
    "\n",
    "rf_cv.fit(X_train, y_train)\n",
    "\n",
    "# TEST\n",
    "y_pred_rf = rf_cv.predict(X_test)\n",
    "\n",
    "MAE_rf = mean_absolute_error(y_test, y_pred_rf)\n",
    "print(\"Tuned parameter: {} \\n\".format(rf_cv.best_params_))\n",
    "print(\"Mean absolute error TEST: %.3f\" % MAE_rf)\n",
    "\n",
    "# TRAIN\n",
    "y_pred = rf_cv.predict(X_train)\n",
    "\n",
    "MAE = mean_absolute_error(y_train, y_pred)\n",
    "print(\"Mean absolute error TRAIN: %.3f\" % MAE)"
   ]
  },
  {
   "cell_type": "markdown",
   "metadata": {
    "ExecuteTime": {
     "end_time": "2021-01-12T13:54:35.788667Z",
     "start_time": "2021-01-12T13:54:35.785664Z"
    }
   },
   "source": [
    "### Gradient Boosting"
   ]
  },
  {
   "cell_type": "markdown",
   "metadata": {},
   "source": [
    "Next model used in the project is a Gradient Boosting Regressor. Hyperparameters tuned using GridSearchCV include number of estimators and learning rate. Min_samples_leaf was set to 0.5 and max_depth was set to just 2 in order to reduce overfitting. Also, the max number of features parameter was set to square root as it significantly increased computational time without decreasing quality of predictions. Best result is yielded for the combination of 4000 estimators and 0.4 learning rate and the error is now significantly smaller (50k). However, it seems that in this case the overfitting to the data is still present to some extent. Predictions on train set have an MAE of almost 45k, while on test set equal to 50k. While the error on the test set is significantly smaller than for previous models and gradient boosting is outperforming them, it is wise to keep in mind that it is overfitting the data. Testing smaller values of estimators led to smaller overfitting, but also significantly worse prediction errors."
   ]
  },
  {
   "cell_type": "code",
   "execution_count": 60,
   "metadata": {
    "ExecuteTime": {
     "end_time": "2021-01-17T11:07:27.340569Z",
     "start_time": "2021-01-17T11:05:56.712558Z"
    }
   },
   "outputs": [
    {
     "name": "stdout",
     "output_type": "stream",
     "text": [
      "Tuned parameters: {'learning_rate': 0.4, 'n_estimators': 4000} \n",
      "\n",
      "Mean absolute error TEST: 50723.115\n",
      "Mean absolute error TRAIN: 44829.160\n"
     ]
    }
   ],
   "source": [
    "from sklearn.ensemble import GradientBoostingRegressor\n",
    "\n",
    "param_grid_gb = {'n_estimators': [3000, 3500, 4000], \n",
    "                 'learning_rate': [0.15, 0.3, 0.4, 0.5]}\n",
    "\n",
    "gb = GradientBoostingRegressor(min_samples_split=0.5, max_depth=2, \n",
    "                               max_features = \"sqrt\", random_state=2021)\n",
    "gb_cv = GridSearchCV(gb, param_grid_gb, cv=3)\n",
    "\n",
    "gb_cv.fit(X_train, y_train)\n",
    "\n",
    "# TEST\n",
    "y_pred_gb = gb_cv.predict(X_test)\n",
    "\n",
    "MAE_gb = mean_absolute_error(y_test, y_pred_gb)\n",
    "print(\"Tuned parameters: {} \\n\".format(gb_cv.best_params_))\n",
    "print(\"Mean absolute error TEST: %.3f\" % MAE_gb)\n",
    "\n",
    "# TRAIN\n",
    "y_pred = gb_cv.predict(X_train)\n",
    "\n",
    "MAE = mean_absolute_error(y_train, y_pred)\n",
    "print(\"Mean absolute error TRAIN: %.3f\" % MAE)"
   ]
  },
  {
   "cell_type": "markdown",
   "metadata": {
    "ExecuteTime": {
     "end_time": "2021-01-12T13:54:35.788667Z",
     "start_time": "2021-01-12T13:54:35.785664Z"
    }
   },
   "source": [
    "### Neural Network"
   ]
  },
  {
   "cell_type": "markdown",
   "metadata": {},
   "source": [
    "The last of the component models is the Neural Network. The number of observations may be insufficient to get the best of neural network, however it was interesting to see the results of this approach. The architecture of the neural network below is a result of trial-and-error of changing layers, number of neurons in a layer as well as activation functions, epochs and so forth. After 65 epochs the neural network started to overfit the data. The final neural network is defined in a function *build_network*, since it is needed later on in a sklearn wrapper. Resulting MAE is bigger than for the gradient boosting algorithm and closer to the random forest one, but as an advantage, this neural network does not overfit (MAE for test and train sets are roughly the same - around 55k/56k). Higher number of epochs led to overfitting, while adding more layers increased error."
   ]
  },
  {
   "cell_type": "code",
   "execution_count": 67,
   "metadata": {
    "ExecuteTime": {
     "end_time": "2021-01-17T11:23:17.902136Z",
     "start_time": "2021-01-17T11:22:22.118737Z"
    }
   },
   "outputs": [
    {
     "name": "stdout",
     "output_type": "stream",
     "text": [
      "Mean absolute error TEST: 56355.359\n",
      "Mean absolute error TRAIN: 54266.541\n"
     ]
    }
   ],
   "source": [
    "from keras.models import Sequential \n",
    "from keras.layers import Dense, Dropout\n",
    "\n",
    "def build_network():\n",
    "    \n",
    "    nn = Sequential()\n",
    "\n",
    "    nn.add(Dense(400, input_dim=94, activation='relu'))\n",
    "    nn.add(Dropout(0.5))\n",
    "    nn.add(Dense(200))\n",
    "    nn.add(Dropout(0.4))\n",
    "    nn.add(Dense(50,  activation='relu'))\n",
    "    nn.add(Dense(1,  activation='relu'))\n",
    "\n",
    "    nn.compile(optimizer = 'adam', loss = \"mean_absolute_error\")\n",
    "    return nn\n",
    "    \n",
    "\n",
    "nn = build_network()\n",
    "nn.fit(X_train, y_train, epochs=65, batch_size=5, verbose=0)\n",
    "\n",
    "# TEST\n",
    "y_pred_nn = nn.predict(X_test)\n",
    "\n",
    "MAE_nn = mean_absolute_error(y_test, y_pred_nn)\n",
    "print(\"Mean absolute error TEST: %.3f\" % MAE_nn)\n",
    "\n",
    "# TRAIN\n",
    "y_pred = nn.predict(X_train)\n",
    "\n",
    "MAE = mean_absolute_error(y_train, y_pred)\n",
    "print(\"Mean absolute error TRAIN: %.3f\" % MAE)"
   ]
  },
  {
   "cell_type": "markdown",
   "metadata": {},
   "source": [
    "### Final Model\n"
   ]
  },
  {
   "cell_type": "markdown",
   "metadata": {},
   "source": [
    "The final model is an averaging ensemble model of the 3 specified before in this project. Neural network needed additional wrapping in order to be considered a regressor, but apart from that two lines of code, the models were untouched since their calculations. The VotingRegressor is an ensemble meta-estimator that fits several base regressors and then it averages the individual predictions to form a final prediction. The resulting predictions are therefore a mean of each of the predictions from previous models. StackedRegressor was also tested, but due to providing the same results, but in much longer time, the VotingRegressor was chosen in favour of Stacked. The ensemble was averaged using different set of weights. However, the best results were yielded for:\n",
    " * 2 for Random Forest\n",
    " * 0.1 for Gradient Boosting\n",
    " * 4 for Neural Network\n",
    " \n",
    "Such weights were chosen as they yielded a good relation of error and overfitting. Other combinations were also tested but to no avail (some of them are shown below). Best results needed higher neural network weight and much lower gradient boosting weight. "
   ]
  },
  {
   "cell_type": "code",
   "execution_count": 71,
   "metadata": {
    "ExecuteTime": {
     "end_time": "2021-01-17T11:35:08.136926Z",
     "start_time": "2021-01-17T11:31:20.526553Z"
    }
   },
   "outputs": [
    {
     "name": "stdout",
     "output_type": "stream",
     "text": [
      "[0.2, 0.2, 0.8]\n",
      "Mean absolute error test: 55556.130\n",
      "Mean absolute error train: 53331.858\n",
      "[0.2, 2, 1]\n",
      "Mean absolute error test: 63176.888\n",
      "Mean absolute error train: 63039.559\n",
      "[2, 1, 0.2]\n",
      "Mean absolute error test: 61868.295\n",
      "Mean absolute error train: 58111.233\n",
      "[2, 0.1, 4]\n",
      "Mean absolute error test: 55080.007\n",
      "Mean absolute error train: 51889.219\n"
     ]
    }
   ],
   "source": [
    "from sklearn.ensemble import VotingRegressor\n",
    "from keras.wrappers.scikit_learn import KerasRegressor\n",
    "\n",
    "nn = KerasRegressor(build_network, epochs=65, batch_size=5, verbose=0)\n",
    "nn._estimator_type = 'regressor'\n",
    "\n",
    "weights = [[0.2, 0.2, 0.8], [0.2, 2, 1], [2, 1, 0.2], [2, 0.1, 4]]\n",
    "\n",
    "for weight in weights:\n",
    "    vr = VotingRegressor([('rf', rf), ('gb', gb), ('nn', nn)], weights=weight)\n",
    "\n",
    "    vr.fit(X_train, y_train)\n",
    "    print(weight)\n",
    "    # TEST\n",
    "    y_pred_vr = vr.predict(X_test)\n",
    "\n",
    "    MAE_vr = mean_absolute_error(y_test, y_pred_vr)\n",
    "    print(\"Mean absolute error test: %.3f\" % MAE_vr)\n",
    "\n",
    "    # TRAIN\n",
    "    y_pred = vr.predict(X_train)\n",
    "\n",
    "    MAE = mean_absolute_error(y_train, y_pred)\n",
    "    print(\"Mean absolute error train: %.3f\" % MAE)"
   ]
  },
  {
   "cell_type": "markdown",
   "metadata": {},
   "source": [
    "As shown above, the quality of predictions of VotingRegressor is slightly better than that of neural network's and if we count out the overfitting of gradient boosting, it is also outperformed by it. However, the overfitting seems to be a marginal problem if any with VotingRegressor. Thus, we can state that the VotingRegressor is in fact the best model out of all the presented - lower error than neural network, relatively no overfitting when compared to gradient boost. However, the possible explanation of the ensemble not clearly outperforming its component models is shown below."
   ]
  },
  {
   "cell_type": "code",
   "execution_count": 69,
   "metadata": {
    "ExecuteTime": {
     "end_time": "2021-01-17T11:30:47.199450Z",
     "start_time": "2021-01-17T11:30:47.190438Z"
    }
   },
   "outputs": [
    {
     "name": "stdout",
     "output_type": "stream",
     "text": [
      "Correlation of predictions: \n",
      "\n",
      "Random forest and gradient boosting: 0.7991\n",
      "Gradient boosting and neural network: 0.8739\n",
      "Neural network and random forest: 0.7931\n"
     ]
    }
   ],
   "source": [
    "import scipy.stats\n",
    "print(\"Correlation of predictions: \\n\")\n",
    "print(\"Random forest and gradient boosting: %.4f\" % scipy.stats.kendalltau(y_pred_rf, y_pred_gb)[0])\n",
    "print(\"Gradient boosting and neural network: %.4f\" % scipy.stats.kendalltau(y_pred_gb, y_pred_nn)[0])\n",
    "print(\"Neural network and random forest: %.4f\" % scipy.stats.kendalltau(y_pred_nn, y_pred_rf)[0])"
   ]
  },
  {
   "cell_type": "markdown",
   "metadata": {},
   "source": [
    "All of the predictions from the models are highly correlated with each other, especially gradient boosting and neural network. That is why the VotingRegressor performs best when supplied weights are very low for gradient boosting. Gradient boosting predicts very similarly to the neural network but overfits. Thus, the averaging from the VotingRegressor averages very similar outcomes, not providing much improvement."
   ]
  },
  {
   "cell_type": "markdown",
   "metadata": {},
   "source": [
    "# Conclusions"
   ]
  },
  {
   "cell_type": "markdown",
   "metadata": {},
   "source": [
    "Summing up, the overall quality of predictions were not perfect but not bad either. Mean absolute error of 53 thousand PLN means that, each offer was mispredicted by roughly that amount. Given the current circumstances and world situation, the prices of real estate are probably more erratic than before and are less likely to follow patterns, thus leading the models to worse predictions."
   ]
  },
  {
   "cell_type": "markdown",
   "metadata": {},
   "source": [
    "53 thousand PLN could also be interpreted as 5 square metres of apartment area. "
   ]
  },
  {
   "cell_type": "code",
   "execution_count": 70,
   "metadata": {
    "ExecuteTime": {
     "end_time": "2021-01-17T11:30:52.565095Z",
     "start_time": "2021-01-17T11:30:52.558089Z"
    }
   },
   "outputs": [
    {
     "data": {
      "text/plain": [
       "10650.69775473883"
      ]
     },
     "execution_count": 70,
     "metadata": {},
     "output_type": "execute_result"
    }
   ],
   "source": [
    "offers[\"price\"].sum()/offers[\"sq_metre\"].sum()"
   ]
  },
  {
   "cell_type": "markdown",
   "metadata": {},
   "source": [
    "The table below shows the summary of the results of each of the proposed models along with an annotation whether the model seemed to be overfitting to the data or not. We can see that VotingRegressor was in fact the best, but by a very small margin."
   ]
  },
  {
   "cell_type": "code",
   "execution_count": 84,
   "metadata": {
    "ExecuteTime": {
     "end_time": "2021-01-17T11:39:01.590653Z",
     "start_time": "2021-01-17T11:39:01.573697Z"
    }
   },
   "outputs": [
    {
     "data": {
      "text/html": [
       "<div>\n",
       "<style scoped>\n",
       "    .dataframe tbody tr th:only-of-type {\n",
       "        vertical-align: middle;\n",
       "    }\n",
       "\n",
       "    .dataframe tbody tr th {\n",
       "        vertical-align: top;\n",
       "    }\n",
       "\n",
       "    .dataframe thead th {\n",
       "        text-align: right;\n",
       "    }\n",
       "</style>\n",
       "<table border=\"1\" class=\"dataframe\">\n",
       "  <thead>\n",
       "    <tr style=\"text-align: right;\">\n",
       "      <th></th>\n",
       "      <th>Decision Tree</th>\n",
       "      <th>Random Forest</th>\n",
       "      <th>Gradient Boost</th>\n",
       "      <th>Neural Network</th>\n",
       "      <th>Best VotingRegressor</th>\n",
       "    </tr>\n",
       "  </thead>\n",
       "  <tbody>\n",
       "    <tr>\n",
       "      <th>0</th>\n",
       "      <td>62044.81</td>\n",
       "      <td>61875.99</td>\n",
       "      <td>50723.11</td>\n",
       "      <td>56355.36</td>\n",
       "      <td>55080.01</td>\n",
       "    </tr>\n",
       "    <tr>\n",
       "      <th>1</th>\n",
       "      <td>Overfit</td>\n",
       "      <td>Small overfit</td>\n",
       "      <td>Overfit</td>\n",
       "      <td>No overfit</td>\n",
       "      <td>No overfit</td>\n",
       "    </tr>\n",
       "  </tbody>\n",
       "</table>\n",
       "</div>"
      ],
      "text/plain": [
       "  Decision Tree  Random Forest Gradient Boost Neural Network  \\\n",
       "0      62044.81       61875.99       50723.11       56355.36   \n",
       "1       Overfit  Small overfit        Overfit     No overfit   \n",
       "\n",
       "  Best VotingRegressor  \n",
       "0             55080.01  \n",
       "1           No overfit  "
      ]
     },
     "execution_count": 84,
     "metadata": {},
     "output_type": "execute_result"
    }
   ],
   "source": [
    "results = pd.DataFrame({'Decision Tree': [round(MAE_bench, 2), \"Overfit\"],\n",
    "                        'Random Forest': [round(MAE_rf, 2), \"Small overfit\"],\n",
    "                        'Gradient Boost': [round(MAE_gb, 2), \"Overfit\"],\n",
    "                        'Neural Network': [round(MAE_nn, 2), \"No overfit\"],\n",
    "                        'Best VotingRegressor': [round(MAE_vr, 2), \"No overfit\"]})\n",
    "results"
   ]
  },
  {
   "cell_type": "markdown",
   "metadata": {},
   "source": [
    "Again, this means that in case of real estate with bigger area, the error is relatively smaller, while for small apartments it is relatively big. Possible solutions to implement in order to achieve better results in future:\n",
    "1. Try to create component models, which differ more between their predictions\n",
    "2. Divide the data into a few separate subsets, ones with cheaper/smaller apartments, the others with more expensive/bigger ones.\n",
    "\n",
    "First solution could be beneficial as the ensemble model (Voting/Stacking) could then improve the predictions better. More different outcomes would probably lead to averaging closer to truth. However, it could also lead to overfitting and be possibly hard to achieve at all. Second solution could lead to having more precise smaller models, but as a drawback it would lead to having 2 models at least. Then they could be combined into an ensemble, but, contrary to this project, the predictions would probably not be that correlated, leading to greater gain from the ensemble. One could also leave the outliers to create a separate model focusing on outliers. However, it is not sure that the results would be better than those achieved in this project.\n"
   ]
  }
 ],
 "metadata": {
  "kernelspec": {
   "display_name": "Python 3",
   "language": "python",
   "name": "python3"
  },
  "language_info": {
   "codemirror_mode": {
    "name": "ipython",
    "version": 3
   },
   "file_extension": ".py",
   "mimetype": "text/x-python",
   "name": "python",
   "nbconvert_exporter": "python",
   "pygments_lexer": "ipython3",
   "version": "3.8.5"
  },
  "latex_envs": {
   "LaTeX_envs_menu_present": true,
   "autoclose": false,
   "autocomplete": true,
   "bibliofile": "biblio.bib",
   "cite_by": "apalike",
   "current_citInitial": 1,
   "eqLabelWithNumbers": true,
   "eqNumInitial": 1,
   "hotkeys": {
    "equation": "Ctrl-E",
    "itemize": "Ctrl-I"
   },
   "labels_anchors": false,
   "latex_user_defs": false,
   "report_style_numbering": false,
   "user_envs_cfg": false
  },
  "toc": {
   "base_numbering": 1,
   "nav_menu": {},
   "number_sections": true,
   "sideBar": true,
   "skip_h1_title": false,
   "title_cell": "Table of Contents",
   "title_sidebar": "Contents",
   "toc_cell": false,
   "toc_position": {
    "height": "calc(100% - 180px)",
    "left": "10px",
    "top": "150px",
    "width": "384px"
   },
   "toc_section_display": true,
   "toc_window_display": true
  },
  "varInspector": {
   "cols": {
    "lenName": 16,
    "lenType": 16,
    "lenVar": 40
   },
   "kernels_config": {
    "python": {
     "delete_cmd_postfix": "",
     "delete_cmd_prefix": "del ",
     "library": "var_list.py",
     "varRefreshCmd": "print(var_dic_list())"
    },
    "r": {
     "delete_cmd_postfix": ") ",
     "delete_cmd_prefix": "rm(",
     "library": "var_list.r",
     "varRefreshCmd": "cat(var_dic_list()) "
    }
   },
   "position": {
    "height": "432px",
    "left": "1550px",
    "right": "20px",
    "top": "120px",
    "width": "350px"
   },
   "types_to_exclude": [
    "module",
    "function",
    "builtin_function_or_method",
    "instance",
    "_Feature"
   ],
   "window_display": true
  }
 },
 "nbformat": 4,
 "nbformat_minor": 4
}
